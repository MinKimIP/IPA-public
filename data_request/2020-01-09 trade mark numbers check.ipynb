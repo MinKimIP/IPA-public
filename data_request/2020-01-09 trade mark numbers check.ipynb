{
  "nbformat": 4,
  "nbformat_minor": 0,
  "metadata": {
    "colab": {
      "name": "Welcome To Colaboratory",
      "provenance": [],
      "collapsed_sections": [],
      "toc_visible": true,
      "include_colab_link": true
    },
    "kernelspec": {
      "display_name": "Python 3",
      "name": "python3"
    }
  },
  "cells": [
    {
      "cell_type": "markdown",
      "metadata": {
        "id": "view-in-github",
        "colab_type": "text"
      },
      "source": [
        "<a href=\"https://colab.research.google.com/github/MinKimIP/IPA-public/blob/master/data_request/2020-01-09%20trade%20mark%20numbers%20check.ipynb\" target=\"_parent\"><img src=\"https://colab.research.google.com/assets/colab-badge.svg\" alt=\"Open In Colab\"/></a>"
      ]
    },
    {
      "cell_type": "markdown",
      "metadata": {
        "id": "3wZ8dF5H5rz2",
        "colab_type": "text"
      },
      "source": [
        "# Data Request\n",
        "\n",
        "9 January 2020\n",
        "\n",
        "Could I just pass on a query relating to the Trademark dataset on IPGOD?\n",
        "It looks like the 2018 counts are improbably low.\n",
        "Is this due to indexing latency\n",
        "Or are we looking in the wrong place?\n",
        "\n",
        "---\n",
        "\n",
        "This data request will be answered using [IPGOD 2019](https://data.gov.au/data/dataset/intellectual-property-government-open-data-2019).\n",
        "\n",
        "We note that IPGOD 2019 has many data quality issues, this notebook simply explores what is in the data."
      ]
    },
    {
      "cell_type": "code",
      "metadata": {
        "id": "c22ELaE_Yurz",
        "colab_type": "code",
        "colab": {}
      },
      "source": [
        "%%capture\n",
        "# run this optional installation code if you do not have the packages\n",
        "!pip install pandas --upgrade\n",
        "!pip install pandas-profiling[notebook,html] --upgrade"
      ],
      "execution_count": 0,
      "outputs": []
    },
    {
      "cell_type": "markdown",
      "metadata": {
        "id": "1lP7RM_4OzW0",
        "colab_type": "text"
      },
      "source": [
        "## Scripts\n",
        "\n",
        "Run the cell below without any changes."
      ]
    },
    {
      "cell_type": "code",
      "metadata": {
        "id": "4F_Q1S7oMsGX",
        "colab_type": "code",
        "colab": {}
      },
      "source": [
        "import pandas as pd\n",
        "from pandas_profiling import ProfileReport\n",
        "\n",
        "# data sources\n",
        "\n",
        "def ip_data(ip_type, table):\n",
        "    url_base = 'https://data.gov.au/data/dataset/a4210de2-9cbb-4d43-848d-46138fefd271/resource/'\n",
        "    url = {'patent': {'process': '8fa6db74-a461-47f1-acc6-2e0cf7f06bd5/download/ipgod107.csv',\n",
        "                      'applicant': '846990df-db42-4ad7-bbd6-567fd37a2797/download/ipgod102.csv',\n",
        "                      'classification': '5aeec421-dddc-4c22-a66a-bfc5ad22947f/download/ipgod104.csv'},\n",
        "           'trademark': {'process': '4dec358e-14ff-45ef-8b3e-b27274347e23/download/ipgod203.csv',\n",
        "                         'applicant': 'aae1c14d-f8c0-4540-b5d3-1ed21500271e/download/ipgod202.csv',\n",
        "                         'classification': 'fb505762-ab2a-4f56-999d-9bedd1da2ad5/download/ipgod204.csv'},\n",
        "           'design': {'process': '9003a068-82fd-410d-a193-d54b8bc1f171/download/ipgod303.csv',\n",
        "                      'applicant': '4b802e80-c667-4b84-8f50-72c2624c59c1/download/ipgod302.csv',\n",
        "                      'classification': 'b01f7e00-a718-4e2d-9ffb-14938fd7dba9/download/ipgod304.csv'}}\n",
        "    \n",
        "    df = pd.read_csv(url_base+url[ip_type][table], low_memory=False)\n",
        "    df = parse_dates(df)\n",
        "\n",
        "    return df\n",
        "\n",
        "\n",
        "main_key = {'patent': 'australian_appl_no',\n",
        "            'trademark': 'tm_number',\n",
        "            'design': 'application_id'}\n",
        "\n",
        "\n",
        "# pipe components\n",
        "\n",
        "def parse_dates(df):\n",
        "    for column in df.columns:\n",
        "        if \"date\" in column:\n",
        "            df[column] = pd.to_datetime(df[column])\n",
        "    \n",
        "    return df\n",
        "\n",
        "\n",
        "# pipeline\n",
        "\n",
        "def profile_data(ip_type, table):\n",
        "    profile = (ip_data(ip_type, table)\n",
        "                  .pipe(ProfileReport, title=f'{ip_type}-{table}-profile', minimal=True))\n",
        "    return profile"
      ],
      "execution_count": 0,
      "outputs": []
    },
    {
      "cell_type": "markdown",
      "metadata": {
        "id": "EgpG_GWDO8Zl",
        "colab_type": "text"
      },
      "source": [
        "## Execute\n",
        "\n",
        "Run the code for the table you wish to explore."
      ]
    },
    {
      "cell_type": "code",
      "metadata": {
        "id": "hRPy_Fmg_4xp",
        "colab_type": "code",
        "colab": {}
      },
      "source": [
        "ip_type = 'trademark'\n",
        "table = 'process'\n",
        "output_file = 'trademark-process-profile.html'\n",
        "\n",
        "profile = profile_data(ip_type, table)\n",
        "profile.to_file(output_file)"
      ],
      "execution_count": 0,
      "outputs": []
    },
    {
      "cell_type": "code",
      "metadata": {
        "id": "F9NLKkCKVcv1",
        "colab_type": "code",
        "colab": {}
      },
      "source": [
        ""
      ],
      "execution_count": 0,
      "outputs": []
    }
  ]
}