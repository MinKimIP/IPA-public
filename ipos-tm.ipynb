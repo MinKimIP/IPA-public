{
  "nbformat": 4,
  "nbformat_minor": 0,
  "metadata": {
    "colab": {
      "name": "Welcome To Colaboratory",
      "provenance": [],
      "collapsed_sections": [],
      "toc_visible": true,
      "include_colab_link": true
    },
    "kernelspec": {
      "display_name": "Python 3",
      "name": "python3"
    }
  },
  "cells": [
    {
      "cell_type": "markdown",
      "metadata": {
        "id": "view-in-github",
        "colab_type": "text"
      },
      "source": [
        "<a href=\"https://colab.research.google.com/github/MinKimIP/IPA-public/blob/master/ipos-tm.ipynb\" target=\"_parent\"><img src=\"https://colab.research.google.com/assets/colab-badge.svg\" alt=\"Open In Colab\"/></a>"
      ]
    },
    {
      "cell_type": "markdown",
      "metadata": {
        "id": "3wZ8dF5H5rz2",
        "colab_type": "text"
      },
      "source": [
        "# Get IPOS Trade Mark Data\n"
      ]
    },
    {
      "cell_type": "code",
      "metadata": {
        "id": "c22ELaE_Yurz",
        "colab_type": "code",
        "colab": {}
      },
      "source": [
        "%%capture\n",
        "!pip install pandas --upgrade"
      ],
      "execution_count": 0,
      "outputs": []
    },
    {
      "cell_type": "code",
      "metadata": {
        "id": "4F_Q1S7oMsGX",
        "colab_type": "code",
        "outputId": "ccff78cd-c4ec-47f9-e5ad-9034dbe06cda",
        "colab": {
          "base_uri": "https://localhost:8080/",
          "height": 35
        }
      },
      "source": [
        "# import necessary packages\n",
        "import numpy as np\n",
        "import pandas as pd\n",
        "import requests\n",
        "from datetime import timedelta, date\n",
        "print(f\"pandas {pd.__version__}\")"
      ],
      "execution_count": 1,
      "outputs": [
        {
          "output_type": "stream",
          "text": [
            "pandas 0.25.3\n"
          ],
          "name": "stdout"
        }
      ]
    },
    {
      "cell_type": "code",
      "metadata": {
        "id": "PrRIR3fVmvh2",
        "colab_type": "code",
        "colab": {}
      },
      "source": [
        "# define required custom functions\n",
        "\n",
        "def daterange(start_date, end_date):\n",
        "    for n in range(int ((end_date - start_date).days)):\n",
        "        yield start_date + timedelta(n)\n",
        "\n",
        "\n",
        "def last_day_of_month(any_day):\n",
        "    next_month = any_day.replace(day=28) + timedelta(days=4)\n",
        "    return next_month - timedelta(days=next_month.day)\n",
        "\n",
        "\n",
        "# define function to get Singaporean Trade Mark data\n",
        "\n",
        "def getIPOSmonth(year, month):\n",
        "    # This part will obtain the daily JSON data, concatenate for the month, then save as a JSON file.\n",
        "    # Each row represents the data relating to a single Trade Mark application.\n",
        "    url_base = \"https://api.data.gov.sg/v1/technology/ipos/trademarks?lodgement_date=\"\n",
        "    start_date = date(year, month, 1)\n",
        "    end_date = last_day_of_month(start_date)\n",
        "    for single_date in daterange(start_date, end_date):\n",
        "        lodgement_date = single_date.strftime(\"%Y-%m-%d\")\n",
        "        url = url_base+lodgement_date\n",
        "        response = requests.get(url)\n",
        "        data = response.json()\n",
        "        temp = pd.DataFrame(data['items'])\n",
        "        temp['lodgementDate'] = lodgement_date    \n",
        "        try:\n",
        "            df\n",
        "        except:\n",
        "            df = temp\n",
        "        else:\n",
        "            df = df.append(temp, sort=True)\n",
        "    df.to_json(f'{year}-{month}.json', orient='records')\n",
        "    del df\n",
        "\n",
        "\n",
        "def getIPOSdata(year, month, skip_existing=True):\n",
        "    \"\"\"\n",
        "    Obtains JSON data from the Intellectual Property Office of Singapore through the Open Data API\n",
        "    \"\"\"\n",
        "    try:\n",
        "        pd.read_json(f'{year}-{month}.json', orient='records')\n",
        "    except:\n",
        "        getIPOSmonth(year, month)\n",
        "    else:\n",
        "        if skip_existing==True:\n",
        "            print(f\"Skipping {year}-{month} because the JSON already exists\")\n",
        "        else:\n",
        "            getIPOSmonth(year, month)"
      ],
      "execution_count": 0,
      "outputs": []
    },
    {
      "cell_type": "code",
      "metadata": {
        "id": "9RACl6Oumxfd",
        "colab_type": "code",
        "colab": {}
      },
      "source": [
        "years = range(2020, 2019, -1)\n",
        "months = range(3, 0, -1)\n",
        "\n",
        "for year in years:\n",
        "    for month in months:\n",
        "        getIPOSdata(year, month)"
      ],
      "execution_count": 0,
      "outputs": []
    },
    {
      "cell_type": "code",
      "metadata": {
        "id": "tIsPUdrMm-tV",
        "colab_type": "code",
        "colab": {}
      },
      "source": [
        ""
      ],
      "execution_count": 0,
      "outputs": []
    }
  ]
}