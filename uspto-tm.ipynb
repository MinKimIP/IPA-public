{
  "nbformat": 4,
  "nbformat_minor": 0,
  "metadata": {
    "colab": {
      "name": "Welcome To Colaboratory",
      "provenance": [],
      "collapsed_sections": [],
      "toc_visible": true,
      "machine_shape": "hm",
      "include_colab_link": true
    },
    "kernelspec": {
      "display_name": "Python 3",
      "name": "python3"
    }
  },
  "cells": [
    {
      "cell_type": "markdown",
      "metadata": {
        "id": "view-in-github",
        "colab_type": "text"
      },
      "source": [
        "<a href=\"https://colab.research.google.com/github/MinKimIP/IPA-public/blob/master/uspto-tm.ipynb\" target=\"_parent\"><img src=\"https://colab.research.google.com/assets/colab-badge.svg\" alt=\"Open In Colab\"/></a>"
      ]
    },
    {
      "cell_type": "markdown",
      "metadata": {
        "id": "3wZ8dF5H5rz2",
        "colab_type": "text"
      },
      "source": [
        "# Obtain USPTO trademark data"
      ]
    },
    {
      "cell_type": "code",
      "metadata": {
        "id": "c22ELaE_Yurz",
        "colab_type": "code",
        "colab": {}
      },
      "source": [
        "%%capture\n",
        "!pip install pyarrow\n",
        "!pip install pandas --upgrade --force\n",
        "!pip install xmltodict\n",
        "!pip install tqdm\n",
        "\n",
        "# restart kernel (or runtime) after installation"
      ],
      "execution_count": 0,
      "outputs": []
    },
    {
      "cell_type": "code",
      "metadata": {
        "id": "4F_Q1S7oMsGX",
        "colab_type": "code",
        "outputId": "fdba6710-e209-44e3-b6a4-ae7659d9f45c",
        "colab": {
          "base_uri": "https://localhost:8080/",
          "height": 35
        }
      },
      "source": [
        "import io\n",
        "import os\n",
        "import sys\n",
        "import requests\n",
        "from zipfile import ZipFile\n",
        "import glob\n",
        "import json\n",
        "import xmltodict\n",
        "import numpy as np\n",
        "import pandas as pd\n",
        "print(pd.__version__) # need version 1.0.0 or newer\n",
        "from pandas import json_normalize\n",
        "from tqdm import tqdm"
      ],
      "execution_count": 0,
      "outputs": [
        {
          "output_type": "stream",
          "text": [
            "1.0.1\n"
          ],
          "name": "stdout"
        }
      ]
    },
    {
      "cell_type": "code",
      "metadata": {
        "id": "0ySKLIjcP6rj",
        "colab_type": "code",
        "colab": {}
      },
      "source": [
        "# XML-read dataframe handlers\n",
        "\n",
        "def normalise(df: pd.DataFrame) -> pd.DataFrame:\n",
        "    for column in df.columns:\n",
        "        try:\n",
        "            df = df.reset_index(drop=True)\n",
        "            df = df.join(json_normalize(df[column]).add_prefix(column)).drop(columns=[column])\n",
        "        except:\n",
        "            df = df\n",
        "    \n",
        "    df = df.pipe(clean_column_names)\n",
        "    \n",
        "    return df\n",
        "\n",
        "\n",
        "def explode(df: pd.DataFrame) -> pd.DataFrame:\n",
        "    for column in df.columns:\n",
        "        try:\n",
        "            df = df.explode(column)\n",
        "            df = df.reset_index(drop=True)\n",
        "        except:\n",
        "            df = df\n",
        "    return df\n",
        "\n",
        "\n",
        "def select_or_create_columns(df: pd.DataFrame, columns: list) -> pd.DataFrame:\n",
        "    df1 = df.copy()\n",
        "    before = df.columns\n",
        "    for column in columns:\n",
        "        if column not in before:\n",
        "            df1[column] = np.nan\n",
        "        else:\n",
        "            df1[column] = df[column]\n",
        "    \n",
        "    df1 = df1[columns]\n",
        "    \n",
        "    return df1\n",
        "\n",
        "\n",
        "def clean_column_names(df: pd.DataFrame) -> pd.DataFrame:\n",
        "    df.columns = [x.replace('.', '').replace(':', '').replace('#', '').replace('@', '').replace('-', '_') for x in df.columns]\n",
        "    return df\n",
        "\n",
        "\n",
        "def drop_problematic_columns(df: pd.DataFrame, columns: str) -> pd.DataFrame:\n",
        "    for column in columns:\n",
        "        if column in df.columns:\n",
        "            df = df.drop(columns = column)\n",
        "    return df"
      ],
      "execution_count": 0,
      "outputs": []
    },
    {
      "cell_type": "code",
      "metadata": {
        "id": "PaoTBltwOOLx",
        "colab_type": "code",
        "colab": {}
      },
      "source": [
        "# make a list of historical zip files\n",
        "\n",
        "link_base = 'https://bulkdata.uspto.gov/data/trademark/dailyxml/applications/'\n",
        "zip_name_base = 'apc18840407-20191231'\n",
        "\n",
        "zip_files = []\n",
        "\n",
        "for i in range(1, 66):\n",
        "  zip_files.append(f\"{link_base}{zip_name_base}-{str(i).rjust(2, '0')}.zip\")"
      ],
      "execution_count": 0,
      "outputs": []
    },
    {
      "cell_type": "code",
      "metadata": {
        "id": "1r9uEoUSg-2g",
        "colab_type": "code",
        "outputId": "d5782d24-21f1-418d-d40f-7040afea27f8",
        "colab": {
          "base_uri": "https://localhost:8080/",
          "height": 55
        }
      },
      "source": [
        "# Might take a long time. So select a batch you want to process in this session\n",
        "\n",
        "zip_files_batch = zip_files"
      ],
      "execution_count": 0,
      "outputs": [
        {
          "output_type": "stream",
          "text": [
            "['https://bulkdata.uspto.gov/data/trademark/dailyxml/applications/apc18840407-20191231-42.zip', 'https://bulkdata.uspto.gov/data/trademark/dailyxml/applications/apc18840407-20191231-43.zip', 'https://bulkdata.uspto.gov/data/trademark/dailyxml/applications/apc18840407-20191231-44.zip', 'https://bulkdata.uspto.gov/data/trademark/dailyxml/applications/apc18840407-20191231-45.zip']\n"
          ],
          "name": "stdout"
        }
      ]
    },
    {
      "cell_type": "code",
      "metadata": {
        "id": "9feTJjmbPgib",
        "colab_type": "code",
        "outputId": "85920489-c2a2-4b20-c16f-7d91e6197d70",
        "colab": {
          "base_uri": "https://localhost:8080/",
          "height": 502
        }
      },
      "source": [
        "def is_int(int_string: str) -> bool:\n",
        "  try:\n",
        "    int(int_string)\n",
        "    return True\n",
        "  except:\n",
        "    return False\n",
        "\n",
        "\n",
        "def is_like_yyyymmdd(date_string: str) -> bool:\n",
        "  if ~is_int(date_string):\n",
        "    return False\n",
        "  elif len(date_string) != 8:\n",
        "    return False\n",
        "  else:\n",
        "    yyyy = int(date_string[:4])\n",
        "    mm = int(date_string[4:6])\n",
        "    dd = int(date_string[6:])\n",
        "\n",
        "    valid_year = 1840 < yyyy < 2050\n",
        "    valid_month = 1 <= mm <= 12\n",
        "    valid_day = 1 <= dd <= 31\n",
        "\n",
        "    return valid_year & valid_month & valid_day\n",
        "\n",
        "\n",
        "def column_exists(df: pd.DataFrame, column: str) -> bool:\n",
        "  try:\n",
        "    df[column]\n",
        "    return True\n",
        "  except:\n",
        "    return False\n",
        "\n",
        "\n",
        "for zip_file in zip_files_batch:\n",
        "  zip_name = os.path.basename(zip_file).replace('.zip', '')\n",
        "  print(zip_name)\n",
        "  r = requests.get(zip_file)\n",
        "  with ZipFile(io.BytesIO(r.content)) as zf:\n",
        "    xml_files = [x for x in zf.namelist() if x.endswith('.xml')]\n",
        "    for xml_file in xml_files:\n",
        "      with zf.open(xml_file) as xf:\n",
        "        xml = xf.read()\n",
        "        xmldict = xmltodict.parse(xml)\n",
        "        root = xmldict['trademark-applications-daily']['application-information']['file-segments']['action-keys']\n",
        "        del xmldict\n",
        "        df = pd.DataFrame.from_dict(root, orient='index').T\n",
        "        del root\n",
        "        df = df.pipe(explode).pipe(normalise).pipe(clean_column_names)\n",
        "        df.columns = [(x.replace('case_file_header', '')\n",
        "                        .replace('case_filecase_file_event_statements', '')\n",
        "                        .replace('case_filecase_file_statements', '')\n",
        "                        .replace('case_fileclassifications', '')\n",
        "                        .replace('case_filecase_file_owners', '')\n",
        "                        .replace('case_file_', '')\n",
        "                        .replace('case_file', '')\n",
        "                        .replace('madrid_international_filing_requestsmadrid_international_filing_recordmadrid_history_events', '')\n",
        "                        .replace('madrid_international_filing_requestsmadrid_international_filing_record', '')\n",
        "                        .replace('foreign_applications', '')\n",
        "                        .replace('prior_registration_applications', '')\n",
        "                        .replace('event_statement', 'event_statement_')\n",
        "                        .replace('classification', 'classification_')\n",
        "                        .replace('correspondent', 'correspondent_'))\n",
        "                      for x in df.columns]\n",
        "        \n",
        "        application_columns = ['action_key',\n",
        "                               'serial_number',\n",
        "                               'registration_number',\n",
        "                               'transaction_date',\n",
        "                               'filing_date',\n",
        "                               'registration_date',\n",
        "                               'abandonment_date',\n",
        "                               'status_code',\n",
        "                               'status_date',\n",
        "                               'mark_identification',\n",
        "                               'statementtext',\n",
        "                               'mark_drawing_code',\n",
        "                               'trademark_in',\n",
        "                               'collective_trademark_in',\n",
        "                               'service_mark_in',\n",
        "                               'collective_service_mark_in',\n",
        "                               'collective_membership_mark_in',\n",
        "                               'certification_mark_in',\n",
        "                               'cancellation_pending_in',\n",
        "                               'concurrent_use_in',\n",
        "                               'foreign_priority_in',\n",
        "                               'change_registration_in',\n",
        "                               'intent_to_use_in',\n",
        "                               'intent_to_use_current_in',\n",
        "                               'filed_as_use_application_in',\n",
        "                               'international_registration_number',\n",
        "                               'international_registration_date']\n",
        "\n",
        "        subset = ['registration_number'\n",
        "                  'transaction_date',\n",
        "                  'filing_date',\n",
        "                  'registration_date',\n",
        "                  'abandonment_date',\n",
        "                  'status_code',\n",
        "                  'status_date',\n",
        "                  'mark_identification',\n",
        "                  'statementtext',\n",
        "                  'mark_drawing_code',\n",
        "                  'trademark_in',\n",
        "                  'collective_trademark_in',\n",
        "                  'service_mark_in',\n",
        "                  'collective_service_mark_in',\n",
        "                  'collective_membership_mark_in',\n",
        "                  'certification_mark_in',\n",
        "                  'cancellation_pending_in',\n",
        "                  'concurrent_use_in',\n",
        "                  'foreign_priority_in',\n",
        "                  'change_registration_in',\n",
        "                  'intent_to_use_in',\n",
        "                  'intent_to_use_current_in',\n",
        "                  'filed_as_use_application_in',\n",
        "                  'international_registration_number',\n",
        "                  'international_registration_date']\n",
        "\n",
        "        if column_exists(df, ''):\n",
        "          application_part_a = (df.copy()\n",
        "                                .loc[df[''].isna(),:]\n",
        "                                .pipe(select_or_create_columns, application_columns)\n",
        "                                .drop_duplicates())\n",
        "          \n",
        "          application_part_b = (df.copy()\n",
        "                                .loc[df[''].notna(), ['action_key', 'serial_number', '']]\n",
        "                                .pipe(explode).pipe(normalise)\n",
        "                                .pipe(select_or_create_columns, application_columns)\n",
        "                                .dropna(subset=subset, how='all')\n",
        "                                .drop_duplicates())\n",
        "\n",
        "          application = pd.concat([application_part_a, application_part_b]).drop_duplicates()\n",
        "          del application_part_a\n",
        "          del application_part_b\n",
        "        else:\n",
        "          application = (df.copy()\n",
        "                           .pipe(select_or_create_columns, application_columns)\n",
        "                           .drop_duplicates())\n",
        "        \n",
        "        for column in application.columns:\n",
        "          if 'date' in column:\n",
        "            is_valid_date = application[column].apply(is_like_yyyymmdd)\n",
        "            application.loc[~is_valid_date, column] = np.nan\n",
        "            application[column] = pd.to_datetime(application[column], format = '%Y%m%d')\n",
        "          elif column.endswith('_in'):\n",
        "            application[column] = application[column].fillna(False).replace('F', False).replace('T', True)\n",
        "\n",
        "        application.to_parquet(f'application-{zip_name}.parquet', index=False)\n",
        "        del application\n",
        "\n",
        "        classification = (df.copy()\n",
        "                            .pipe(select_or_create_columns, ['action_key',\n",
        "                                                             'serial_number',\n",
        "                                                             'classification_international_code'])\n",
        "                            .pipe(explode)\n",
        "                            .drop_duplicates())\n",
        "\n",
        "        classification.to_parquet(f'classification-{zip_name}.parquet', index=False)\n",
        "        del classification\n",
        "\n",
        "        owner_columns = ['action_key',\n",
        "                         'serial_number',\n",
        "                         'ownerparty_name',\n",
        "                         'ownercity',\n",
        "                         'ownerstate',\n",
        "                         'ownerpostcode',\n",
        "                         'ownernationalitystate',\n",
        "                         'ownernationalitycountry',\n",
        "                         'ownerentity_statement',\n",
        "                         'ownercountry']\n",
        "\n",
        "        if column_exists(df, 'owner'):\n",
        "          owner_part_a = (df.copy()\n",
        "                          .loc[df['owner'].notna(), ['action_key', 'serial_number', 'owner']]\n",
        "                          .pipe(explode).pipe(normalise)\n",
        "                          .pipe(select_or_create_columns, owner_columns))\n",
        "\n",
        "          owner_part_b = (df.copy()\n",
        "                          .loc[df['owner'].isna(),:]\n",
        "                          .pipe(select_or_create_columns, owner_columns))\n",
        "\n",
        "          owner = pd.concat([owner_part_a, owner_part_b]).drop_duplicates()\n",
        "          del owner_part_a\n",
        "          del owner_part_b\n",
        "        else:\n",
        "          owner = (df.copy()\n",
        "                    .pipe(select_or_create_columns, owner_columns))\n",
        "        \n",
        "        owner.to_parquet(f'owner-{zip_name}.parquet', index=False)\n",
        "        del owner\n",
        "\n",
        "        del df"
      ],
      "execution_count": 0,
      "outputs": [
        {
          "output_type": "stream",
          "text": [
            "apc18840407-20191231-42\n",
            "apc18840407-20191231-43\n",
            "apc18840407-20191231-44\n",
            "apc18840407-20191231-45\n"
          ],
          "name": "stdout"
        },
        {
          "output_type": "error",
          "ename": "KeyboardInterrupt",
          "evalue": "ignored",
          "traceback": [
            "\u001b[0;31m---------------------------------------------------------------------------\u001b[0m",
            "\u001b[0;31mKeyboardInterrupt\u001b[0m                         Traceback (most recent call last)",
            "\u001b[0;32m<ipython-input-9-800a53ad4e8b>\u001b[0m in \u001b[0;36m<module>\u001b[0;34m()\u001b[0m\n\u001b[1;32m     41\u001b[0m       \u001b[0;32mwith\u001b[0m \u001b[0mzf\u001b[0m\u001b[0;34m.\u001b[0m\u001b[0mopen\u001b[0m\u001b[0;34m(\u001b[0m\u001b[0mxml_file\u001b[0m\u001b[0;34m)\u001b[0m \u001b[0;32mas\u001b[0m \u001b[0mxf\u001b[0m\u001b[0;34m:\u001b[0m\u001b[0;34m\u001b[0m\u001b[0;34m\u001b[0m\u001b[0m\n\u001b[1;32m     42\u001b[0m         \u001b[0mxml\u001b[0m \u001b[0;34m=\u001b[0m \u001b[0mxf\u001b[0m\u001b[0;34m.\u001b[0m\u001b[0mread\u001b[0m\u001b[0;34m(\u001b[0m\u001b[0;34m)\u001b[0m\u001b[0;34m\u001b[0m\u001b[0;34m\u001b[0m\u001b[0m\n\u001b[0;32m---> 43\u001b[0;31m         \u001b[0mxmldict\u001b[0m \u001b[0;34m=\u001b[0m \u001b[0mxmltodict\u001b[0m\u001b[0;34m.\u001b[0m\u001b[0mparse\u001b[0m\u001b[0;34m(\u001b[0m\u001b[0mxml\u001b[0m\u001b[0;34m)\u001b[0m\u001b[0;34m\u001b[0m\u001b[0;34m\u001b[0m\u001b[0m\n\u001b[0m\u001b[1;32m     44\u001b[0m         \u001b[0mroot\u001b[0m \u001b[0;34m=\u001b[0m \u001b[0mxmldict\u001b[0m\u001b[0;34m[\u001b[0m\u001b[0;34m'trademark-applications-daily'\u001b[0m\u001b[0;34m]\u001b[0m\u001b[0;34m[\u001b[0m\u001b[0;34m'application-information'\u001b[0m\u001b[0;34m]\u001b[0m\u001b[0;34m[\u001b[0m\u001b[0;34m'file-segments'\u001b[0m\u001b[0;34m]\u001b[0m\u001b[0;34m[\u001b[0m\u001b[0;34m'action-keys'\u001b[0m\u001b[0;34m]\u001b[0m\u001b[0;34m\u001b[0m\u001b[0;34m\u001b[0m\u001b[0m\n\u001b[1;32m     45\u001b[0m         \u001b[0;32mdel\u001b[0m \u001b[0mxmldict\u001b[0m\u001b[0;34m\u001b[0m\u001b[0;34m\u001b[0m\u001b[0m\n",
            "\u001b[0;32m/usr/local/lib/python3.6/dist-packages/xmltodict.py\u001b[0m in \u001b[0;36mparse\u001b[0;34m(xml_input, encoding, expat, process_namespaces, namespace_separator, disable_entities, **kwargs)\u001b[0m\n\u001b[1;32m    325\u001b[0m         \u001b[0mparser\u001b[0m\u001b[0;34m.\u001b[0m\u001b[0mParseFile\u001b[0m\u001b[0;34m(\u001b[0m\u001b[0mxml_input\u001b[0m\u001b[0;34m)\u001b[0m\u001b[0;34m\u001b[0m\u001b[0;34m\u001b[0m\u001b[0m\n\u001b[1;32m    326\u001b[0m     \u001b[0;32melse\u001b[0m\u001b[0;34m:\u001b[0m\u001b[0;34m\u001b[0m\u001b[0;34m\u001b[0m\u001b[0m\n\u001b[0;32m--> 327\u001b[0;31m         \u001b[0mparser\u001b[0m\u001b[0;34m.\u001b[0m\u001b[0mParse\u001b[0m\u001b[0;34m(\u001b[0m\u001b[0mxml_input\u001b[0m\u001b[0;34m,\u001b[0m \u001b[0;32mTrue\u001b[0m\u001b[0;34m)\u001b[0m\u001b[0;34m\u001b[0m\u001b[0;34m\u001b[0m\u001b[0m\n\u001b[0m\u001b[1;32m    328\u001b[0m     \u001b[0;32mreturn\u001b[0m \u001b[0mhandler\u001b[0m\u001b[0;34m.\u001b[0m\u001b[0mitem\u001b[0m\u001b[0;34m\u001b[0m\u001b[0;34m\u001b[0m\u001b[0m\n\u001b[1;32m    329\u001b[0m \u001b[0;34m\u001b[0m\u001b[0m\n",
            "\u001b[0;32m../Modules/pyexpat.c\u001b[0m in \u001b[0;36mStartElement\u001b[0;34m()\u001b[0m\n",
            "\u001b[0;32m/usr/local/lib/python3.6/dist-packages/xmltodict.py\u001b[0m in \u001b[0;36mstartElement\u001b[0;34m(self, full_name, attrs)\u001b[0m\n\u001b[1;32m     98\u001b[0m             \u001b[0mself\u001b[0m\u001b[0;34m.\u001b[0m\u001b[0mnamespace_declarations\u001b[0m \u001b[0;34m=\u001b[0m \u001b[0mOrderedDict\u001b[0m\u001b[0;34m(\u001b[0m\u001b[0;34m)\u001b[0m\u001b[0;34m\u001b[0m\u001b[0;34m\u001b[0m\u001b[0m\n\u001b[1;32m     99\u001b[0m         \u001b[0mself\u001b[0m\u001b[0;34m.\u001b[0m\u001b[0mpath\u001b[0m\u001b[0;34m.\u001b[0m\u001b[0mappend\u001b[0m\u001b[0;34m(\u001b[0m\u001b[0;34m(\u001b[0m\u001b[0mname\u001b[0m\u001b[0;34m,\u001b[0m \u001b[0mattrs\u001b[0m \u001b[0;32mor\u001b[0m \u001b[0;32mNone\u001b[0m\u001b[0;34m)\u001b[0m\u001b[0;34m)\u001b[0m\u001b[0;34m\u001b[0m\u001b[0;34m\u001b[0m\u001b[0m\n\u001b[0;32m--> 100\u001b[0;31m         \u001b[0;32mif\u001b[0m \u001b[0mlen\u001b[0m\u001b[0;34m(\u001b[0m\u001b[0mself\u001b[0m\u001b[0;34m.\u001b[0m\u001b[0mpath\u001b[0m\u001b[0;34m)\u001b[0m \u001b[0;34m>\u001b[0m \u001b[0mself\u001b[0m\u001b[0;34m.\u001b[0m\u001b[0mitem_depth\u001b[0m\u001b[0;34m:\u001b[0m\u001b[0;34m\u001b[0m\u001b[0;34m\u001b[0m\u001b[0m\n\u001b[0m\u001b[1;32m    101\u001b[0m             \u001b[0mself\u001b[0m\u001b[0;34m.\u001b[0m\u001b[0mstack\u001b[0m\u001b[0;34m.\u001b[0m\u001b[0mappend\u001b[0m\u001b[0;34m(\u001b[0m\u001b[0;34m(\u001b[0m\u001b[0mself\u001b[0m\u001b[0;34m.\u001b[0m\u001b[0mitem\u001b[0m\u001b[0;34m,\u001b[0m \u001b[0mself\u001b[0m\u001b[0;34m.\u001b[0m\u001b[0mdata\u001b[0m\u001b[0;34m)\u001b[0m\u001b[0;34m)\u001b[0m\u001b[0;34m\u001b[0m\u001b[0;34m\u001b[0m\u001b[0m\n\u001b[1;32m    102\u001b[0m             \u001b[0;32mif\u001b[0m \u001b[0mself\u001b[0m\u001b[0;34m.\u001b[0m\u001b[0mxml_attribs\u001b[0m\u001b[0;34m:\u001b[0m\u001b[0;34m\u001b[0m\u001b[0;34m\u001b[0m\u001b[0m\n",
            "\u001b[0;31mKeyboardInterrupt\u001b[0m: "
          ]
        }
      ]
    },
    {
      "cell_type": "code",
      "metadata": {
        "id": "R1mrsRx3DIuT",
        "colab_type": "code",
        "colab": {}
      },
      "source": [
        ""
      ],
      "execution_count": 0,
      "outputs": []
    }
  ]
}