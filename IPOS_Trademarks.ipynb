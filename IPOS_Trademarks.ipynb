{
  "nbformat": 4,
  "nbformat_minor": 0,
  "metadata": {
    "colab": {
      "name": "Welcome To Colaboratory",
      "provenance": [],
      "collapsed_sections": [],
      "toc_visible": true
    },
    "kernelspec": {
      "display_name": "Python 3",
      "name": "python3"
    }
  },
  "cells": [
    {
      "cell_type": "code",
      "metadata": {
        "id": "4F_Q1S7oMsGX",
        "colab_type": "code",
        "colab": {}
      },
      "source": [
        "import numpy as np\n",
        "import pandas as pd\n",
        "import requests"
      ],
      "execution_count": 0,
      "outputs": []
    },
    {
      "cell_type": "code",
      "metadata": {
        "id": "INipKJaEMuQv",
        "colab_type": "code",
        "colab": {}
      },
      "source": [
        "url_base = \"https://api.data.gov.sg/v1/technology/ipos/trademarks?lodgement_date=\"\n",
        "date = \"2017-12-12\"\n",
        "\n",
        "url = url_base+date\n",
        "\n",
        "response = requests.get(url)\n",
        "\n",
        "data = response.json()"
      ],
      "execution_count": 0,
      "outputs": []
    },
    {
      "cell_type": "code",
      "metadata": {
        "id": "SM1cI5dr7hXd",
        "colab_type": "code",
        "colab": {
          "base_uri": "https://localhost:8080/",
          "height": 564
        },
        "outputId": "519e20de-1f44-4f60-fa60-9bbfb53c8575"
      },
      "source": [
        "df = pd.DataFrame(data['items'])\n",
        "df.head()"
      ],
      "execution_count": 41,
      "outputs": [
        {
          "output_type": "execute_result",
          "data": {
            "text/html": [
              "<div>\n",
              "<style scoped>\n",
              "    .dataframe tbody tr th:only-of-type {\n",
              "        vertical-align: middle;\n",
              "    }\n",
              "\n",
              "    .dataframe tbody tr th {\n",
              "        vertical-align: top;\n",
              "    }\n",
              "\n",
              "    .dataframe thead th {\n",
              "        text-align: right;\n",
              "    }\n",
              "</style>\n",
              "<table border=\"1\" class=\"dataframe\">\n",
              "  <thead>\n",
              "    <tr style=\"text-align: right;\">\n",
              "      <th></th>\n",
              "      <th>HMGcases</th>\n",
              "      <th>agentCorrespondenceDetails</th>\n",
              "      <th>applicationNum</th>\n",
              "      <th>currentApplicantProprietorDetails</th>\n",
              "      <th>documents</th>\n",
              "      <th>goodsAndServicesSpecifications</th>\n",
              "      <th>internationalApplicationDetails</th>\n",
              "      <th>internationlRegistrationDesignatingSingaporeDetails</th>\n",
              "      <th>license</th>\n",
              "      <th>logogramArticle6TerDetails</th>\n",
              "      <th>markClauses</th>\n",
              "      <th>markIndex</th>\n",
              "      <th>priorityClaimsDetails</th>\n",
              "      <th>replacementApplicationMadridBy</th>\n",
              "      <th>replacementApplicationMadridReplaces</th>\n",
              "      <th>securityInterest</th>\n",
              "      <th>summary</th>\n",
              "      <th>transferOfOwnership</th>\n",
              "      <th>transformationApplicationMadridFrom</th>\n",
              "      <th>transformationApplicationMadridInto</th>\n",
              "    </tr>\n",
              "  </thead>\n",
              "  <tbody>\n",
              "    <tr>\n",
              "      <th>0</th>\n",
              "      <td>None</td>\n",
              "      <td>[{'representationType': 'Non-Agent', 'agent': ...</td>\n",
              "      <td>40201724521Y</td>\n",
              "      <td>[{'stateOfIncorporation': {'description': None...</td>\n",
              "      <td>[{'fileName': '897afb02-037e-49eb-b930-e93cf0f...</td>\n",
              "      <td>[{'goodsServices': 'Non-metallic wall panels.'...</td>\n",
              "      <td>None</td>\n",
              "      <td>None</td>\n",
              "      <td>None</td>\n",
              "      <td>None</td>\n",
              "      <td>None</td>\n",
              "      <td>[{'enTranslation': None, 'phoneticEquiv': None...</td>\n",
              "      <td>None</td>\n",
              "      <td>None</td>\n",
              "      <td>None</td>\n",
              "      <td>None</td>\n",
              "      <td>{'applicationType': 'Trade Mark', 'filingDate'...</td>\n",
              "      <td>None</td>\n",
              "      <td>None</td>\n",
              "      <td>None</td>\n",
              "    </tr>\n",
              "    <tr>\n",
              "      <th>1</th>\n",
              "      <td>None</td>\n",
              "      <td>[{'representationType': 'Agent', 'agent': {'ue...</td>\n",
              "      <td>40201724522T</td>\n",
              "      <td>[{'stateOfIncorporation': {'description': None...</td>\n",
              "      <td>[{'fileName': '0764af7d-434c-4d03-80db-7644dc8...</td>\n",
              "      <td>[{'goodsServices': 'Providing obstacle course ...</td>\n",
              "      <td>None</td>\n",
              "      <td>None</td>\n",
              "      <td>None</td>\n",
              "      <td>None</td>\n",
              "      <td>None</td>\n",
              "      <td>[{'enTranslation': None, 'phoneticEquiv': None...</td>\n",
              "      <td>None</td>\n",
              "      <td>None</td>\n",
              "      <td>None</td>\n",
              "      <td>None</td>\n",
              "      <td>{'applicationType': 'Trade Mark', 'filingDate'...</td>\n",
              "      <td>None</td>\n",
              "      <td>None</td>\n",
              "      <td>None</td>\n",
              "    </tr>\n",
              "    <tr>\n",
              "      <th>2</th>\n",
              "      <td>None</td>\n",
              "      <td>[{'representationType': 'Agent', 'agent': {'ue...</td>\n",
              "      <td>40201724523U</td>\n",
              "      <td>[{'stateOfIncorporation': {'description': None...</td>\n",
              "      <td>[{'fileName': '47f8c11c-6bb2-4dba-88c1-bf1a58d...</td>\n",
              "      <td>[{'goodsServices': 'Recycling of waste and tra...</td>\n",
              "      <td>None</td>\n",
              "      <td>None</td>\n",
              "      <td>None</td>\n",
              "      <td>None</td>\n",
              "      <td>None</td>\n",
              "      <td>[{'enTranslation': None, 'phoneticEquiv': None...</td>\n",
              "      <td>None</td>\n",
              "      <td>None</td>\n",
              "      <td>None</td>\n",
              "      <td>None</td>\n",
              "      <td>{'applicationType': 'Trade Mark', 'filingDate'...</td>\n",
              "      <td>None</td>\n",
              "      <td>None</td>\n",
              "      <td>None</td>\n",
              "    </tr>\n",
              "    <tr>\n",
              "      <th>3</th>\n",
              "      <td>None</td>\n",
              "      <td>[{'representationType': 'Agent', 'agent': {'ue...</td>\n",
              "      <td>40201724524S</td>\n",
              "      <td>[{'stateOfIncorporation': {'description': None...</td>\n",
              "      <td>[{'fileName': '49a9ef39-33bc-4202-8c1b-9da1352...</td>\n",
              "      <td>[{'goodsServices': 'Ice cream; water ices; fro...</td>\n",
              "      <td>None</td>\n",
              "      <td>None</td>\n",
              "      <td>None</td>\n",
              "      <td>None</td>\n",
              "      <td>None</td>\n",
              "      <td>[{'enTranslation': None, 'phoneticEquiv': None...</td>\n",
              "      <td>None</td>\n",
              "      <td>None</td>\n",
              "      <td>None</td>\n",
              "      <td>None</td>\n",
              "      <td>{'applicationType': 'Trade Mark', 'filingDate'...</td>\n",
              "      <td>None</td>\n",
              "      <td>None</td>\n",
              "      <td>None</td>\n",
              "    </tr>\n",
              "    <tr>\n",
              "      <th>4</th>\n",
              "      <td>None</td>\n",
              "      <td>[{'representationType': 'Agent', 'agent': {'ue...</td>\n",
              "      <td>40201724525V</td>\n",
              "      <td>[{'stateOfIncorporation': {'description': None...</td>\n",
              "      <td>[{'fileName': '4bbda988-7d17-45f0-9393-b4cce37...</td>\n",
              "      <td>[{'goodsServices': 'Cardboard; Paper bags; Pla...</td>\n",
              "      <td>None</td>\n",
              "      <td>None</td>\n",
              "      <td>None</td>\n",
              "      <td>None</td>\n",
              "      <td>[{'value': 'The transliteration of the Chinese...</td>\n",
              "      <td>[{'enTranslation': 'fragrant garden', 'phoneti...</td>\n",
              "      <td>None</td>\n",
              "      <td>None</td>\n",
              "      <td>None</td>\n",
              "      <td>None</td>\n",
              "      <td>{'applicationType': 'Trade Mark', 'filingDate'...</td>\n",
              "      <td>None</td>\n",
              "      <td>None</td>\n",
              "      <td>None</td>\n",
              "    </tr>\n",
              "  </tbody>\n",
              "</table>\n",
              "</div>"
            ],
            "text/plain": [
              "  HMGcases  ... transformationApplicationMadridInto\n",
              "0     None  ...                                None\n",
              "1     None  ...                                None\n",
              "2     None  ...                                None\n",
              "3     None  ...                                None\n",
              "4     None  ...                                None\n",
              "\n",
              "[5 rows x 20 columns]"
            ]
          },
          "metadata": {
            "tags": []
          },
          "execution_count": 41
        }
      ]
    },
    {
      "cell_type": "code",
      "metadata": {
        "id": "cSnmeoBH72Y2",
        "colab_type": "code",
        "colab": {
          "base_uri": "https://localhost:8080/",
          "height": 117
        },
        "outputId": "24f7a8c4-8a21-4bd4-97f6-bf3517fd212e"
      },
      "source": [
        "df_summary = pd.DataFrame(df.loc[0,'summary']).drop(columns='journals')\n",
        "df_summary"
      ],
      "execution_count": 42,
      "outputs": [
        {
          "output_type": "execute_result",
          "data": {
            "text/html": [
              "<div>\n",
              "<style scoped>\n",
              "    .dataframe tbody tr th:only-of-type {\n",
              "        vertical-align: middle;\n",
              "    }\n",
              "\n",
              "    .dataframe tbody tr th {\n",
              "        vertical-align: top;\n",
              "    }\n",
              "\n",
              "    .dataframe thead th {\n",
              "        text-align: right;\n",
              "    }\n",
              "</style>\n",
              "<table border=\"1\" class=\"dataframe\">\n",
              "  <thead>\n",
              "    <tr style=\"text-align: right;\">\n",
              "      <th></th>\n",
              "      <th>applicationType</th>\n",
              "      <th>filingDate</th>\n",
              "      <th>registrationProcedureCompletionDate</th>\n",
              "      <th>statusUpdateDate</th>\n",
              "      <th>disclaimerLimitation</th>\n",
              "      <th>seriesMarkNum</th>\n",
              "      <th>descriptionParticularFeatureOfMark</th>\n",
              "      <th>expiryDate</th>\n",
              "      <th>applicationNum</th>\n",
              "      <th>internationalRegDate</th>\n",
              "      <th>markStatusDate</th>\n",
              "      <th>tradeMarkType</th>\n",
              "      <th>markStatus</th>\n",
              "      <th>singaporeProtectionDate</th>\n",
              "      <th>publicationDate</th>\n",
              "      <th>applicationDate</th>\n",
              "    </tr>\n",
              "  </thead>\n",
              "  <tbody>\n",
              "    <tr>\n",
              "      <th>0</th>\n",
              "      <td>Trade Mark</td>\n",
              "      <td>2017-12-12</td>\n",
              "      <td>2018-06-14</td>\n",
              "      <td>2018-06-14</td>\n",
              "      <td>None</td>\n",
              "      <td>0</td>\n",
              "      <td>None</td>\n",
              "      <td>2027-12-12</td>\n",
              "      <td>40201724521Y</td>\n",
              "      <td>None</td>\n",
              "      <td>2017-12-12</td>\n",
              "      <td>Conventional Mark</td>\n",
              "      <td>Registered</td>\n",
              "      <td>2017-12-12</td>\n",
              "      <td>2018-04-06</td>\n",
              "      <td>2017-12-12</td>\n",
              "    </tr>\n",
              "  </tbody>\n",
              "</table>\n",
              "</div>"
            ],
            "text/plain": [
              "  applicationType  filingDate  ... publicationDate applicationDate\n",
              "0      Trade Mark  2017-12-12  ...      2018-04-06      2017-12-12\n",
              "\n",
              "[1 rows x 16 columns]"
            ]
          },
          "metadata": {
            "tags": []
          },
          "execution_count": 42
        }
      ]
    },
    {
      "cell_type": "code",
      "metadata": {
        "id": "Hz1Qts989Aga",
        "colab_type": "code",
        "colab": {
          "base_uri": "https://localhost:8080/",
          "height": 111
        },
        "outputId": "41da33ee-9ab2-49b1-c2c0-e3510854cee1"
      },
      "source": [
        "df_goodsAndServicesSpecifications = pd.DataFrame(df.loc[0,'goodsAndServicesSpecifications'])[['classNum']]\n",
        "df_goodsAndServicesSpecifications"
      ],
      "execution_count": 43,
      "outputs": [
        {
          "output_type": "execute_result",
          "data": {
            "text/html": [
              "<div>\n",
              "<style scoped>\n",
              "    .dataframe tbody tr th:only-of-type {\n",
              "        vertical-align: middle;\n",
              "    }\n",
              "\n",
              "    .dataframe tbody tr th {\n",
              "        vertical-align: top;\n",
              "    }\n",
              "\n",
              "    .dataframe thead th {\n",
              "        text-align: right;\n",
              "    }\n",
              "</style>\n",
              "<table border=\"1\" class=\"dataframe\">\n",
              "  <thead>\n",
              "    <tr style=\"text-align: right;\">\n",
              "      <th></th>\n",
              "      <th>classNum</th>\n",
              "    </tr>\n",
              "  </thead>\n",
              "  <tbody>\n",
              "    <tr>\n",
              "      <th>0</th>\n",
              "      <td>Class 19</td>\n",
              "    </tr>\n",
              "    <tr>\n",
              "      <th>1</th>\n",
              "      <td>Class 27</td>\n",
              "    </tr>\n",
              "  </tbody>\n",
              "</table>\n",
              "</div>"
            ],
            "text/plain": [
              "   classNum\n",
              "0  Class 19\n",
              "1  Class 27"
            ]
          },
          "metadata": {
            "tags": []
          },
          "execution_count": 43
        }
      ]
    },
    {
      "cell_type": "code",
      "metadata": {
        "id": "T-sgXyiN-J4T",
        "colab_type": "code",
        "colab": {
          "base_uri": "https://localhost:8080/",
          "height": 114
        },
        "outputId": "aeeb531c-f90b-4d15-87af-0e068e0fb4a4"
      },
      "source": [
        "df_currentApplicantProprietorDetails = pd.DataFrame(df.loc[0, 'currentApplicantProprietorDetails'])\n",
        "df_currentApplicantProprietorDetails"
      ],
      "execution_count": 44,
      "outputs": [
        {
          "output_type": "execute_result",
          "data": {
            "text/html": [
              "<div>\n",
              "<style scoped>\n",
              "    .dataframe tbody tr th:only-of-type {\n",
              "        vertical-align: middle;\n",
              "    }\n",
              "\n",
              "    .dataframe tbody tr th {\n",
              "        vertical-align: top;\n",
              "    }\n",
              "\n",
              "    .dataframe thead th {\n",
              "        text-align: right;\n",
              "    }\n",
              "</style>\n",
              "<table border=\"1\" class=\"dataframe\">\n",
              "  <thead>\n",
              "    <tr style=\"text-align: right;\">\n",
              "      <th></th>\n",
              "      <th>address</th>\n",
              "      <th>applicantType</th>\n",
              "      <th>countryOfIncorporationOrResidence</th>\n",
              "      <th>name</th>\n",
              "      <th>nationality</th>\n",
              "      <th>soleProprietorPartnerName</th>\n",
              "      <th>stateOfIncorporation</th>\n",
              "      <th>uenCompanyCode</th>\n",
              "    </tr>\n",
              "  </thead>\n",
              "  <tbody>\n",
              "    <tr>\n",
              "      <th>0</th>\n",
              "      <td>16 TAMPINES STREET 92&lt;br/&gt;EVORICH R&amp;D BUILDING...</td>\n",
              "      <td>{'description': 'Corporate', 'code': 'C'}</td>\n",
              "      <td>{'description': 'Singapore', 'code': 'SG'}</td>\n",
              "      <td>EVORICH HOLDINGS PTE. LTD.</td>\n",
              "      <td>{'description': None, 'code': None}</td>\n",
              "      <td>None</td>\n",
              "      <td>{'description': None, 'code': None}</td>\n",
              "      <td>200721632D</td>\n",
              "    </tr>\n",
              "  </tbody>\n",
              "</table>\n",
              "</div>"
            ],
            "text/plain": [
              "                                             address  ... uenCompanyCode\n",
              "0  16 TAMPINES STREET 92<br/>EVORICH R&D BUILDING...  ...     200721632D\n",
              "\n",
              "[1 rows x 8 columns]"
            ]
          },
          "metadata": {
            "tags": []
          },
          "execution_count": 44
        }
      ]
    },
    {
      "cell_type": "code",
      "metadata": {
        "id": "pXryoGvg-m0U",
        "colab_type": "code",
        "colab": {}
      },
      "source": [
        ""
      ],
      "execution_count": 0,
      "outputs": []
    }
  ]
}