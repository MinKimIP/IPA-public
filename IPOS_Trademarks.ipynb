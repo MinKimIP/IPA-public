{
  "nbformat": 4,
  "nbformat_minor": 0,
  "metadata": {
    "colab": {
      "name": "Welcome To Colaboratory",
      "provenance": [],
      "collapsed_sections": [],
      "toc_visible": true
    },
    "kernelspec": {
      "display_name": "Python 3",
      "name": "python3"
    }
  },
  "cells": [
    {
      "cell_type": "code",
      "metadata": {
        "id": "4F_Q1S7oMsGX",
        "colab_type": "code",
        "colab": {}
      },
      "source": [
        "import numpy as np\n",
        "import pandas as pd\n",
        "import requests"
      ],
      "execution_count": 0,
      "outputs": []
    },
    {
      "cell_type": "code",
      "metadata": {
        "id": "INipKJaEMuQv",
        "colab_type": "code",
        "colab": {
          "base_uri": "https://localhost:8080/",
          "height": 479
        },
        "outputId": "d057a53c-d86a-42c5-c8bb-4605b73f2e46"
      },
      "source": [
        "url_base = \"https://api.data.gov.sg/v1/technology/ipos/trademarks?lodgement_date=\"\n",
        "lodgement_date = \"1999-10-25\"\n",
        "\n",
        "url = url_base+lodgement_date\n",
        "response = requests.get(url)\n",
        "data = response.json()\n",
        "df = pd.DataFrame(data['items'])\n",
        "\n",
        "df.head()"
      ],
      "execution_count": 138,
      "outputs": [
        {
          "output_type": "execute_result",
          "data": {
            "text/html": [
              "<div>\n",
              "<style scoped>\n",
              "    .dataframe tbody tr th:only-of-type {\n",
              "        vertical-align: middle;\n",
              "    }\n",
              "\n",
              "    .dataframe tbody tr th {\n",
              "        vertical-align: top;\n",
              "    }\n",
              "\n",
              "    .dataframe thead th {\n",
              "        text-align: right;\n",
              "    }\n",
              "</style>\n",
              "<table border=\"1\" class=\"dataframe\">\n",
              "  <thead>\n",
              "    <tr style=\"text-align: right;\">\n",
              "      <th></th>\n",
              "      <th>HMGcases</th>\n",
              "      <th>agentCorrespondenceDetails</th>\n",
              "      <th>applicationNum</th>\n",
              "      <th>currentApplicantProprietorDetails</th>\n",
              "      <th>documents</th>\n",
              "      <th>goodsAndServicesSpecifications</th>\n",
              "      <th>internationalApplicationDetails</th>\n",
              "      <th>internationlRegistrationDesignatingSingaporeDetails</th>\n",
              "      <th>license</th>\n",
              "      <th>logogramArticle6TerDetails</th>\n",
              "      <th>markClauses</th>\n",
              "      <th>markIndex</th>\n",
              "      <th>priorityClaimsDetails</th>\n",
              "      <th>replacementApplicationMadridBy</th>\n",
              "      <th>replacementApplicationMadridReplaces</th>\n",
              "      <th>securityInterest</th>\n",
              "      <th>summary</th>\n",
              "      <th>transferOfOwnership</th>\n",
              "      <th>transformationApplicationMadridFrom</th>\n",
              "      <th>transformationApplicationMadridInto</th>\n",
              "    </tr>\n",
              "  </thead>\n",
              "  <tbody>\n",
              "    <tr>\n",
              "      <th>0</th>\n",
              "      <td>None</td>\n",
              "      <td>[{'representationType': 'Non-Agent', 'agent': ...</td>\n",
              "      <td>T9912061Z</td>\n",
              "      <td>[{'stateOfIncorporation': {'description': None...</td>\n",
              "      <td>[{'fileName': 'T9912061Z.jpg', 'lodgementDate'...</td>\n",
              "      <td>[{'goodsServices': 'Webs side.', 'classNum': '...</td>\n",
              "      <td>None</td>\n",
              "      <td>None</td>\n",
              "      <td>None</td>\n",
              "      <td>None</td>\n",
              "      <td>None</td>\n",
              "      <td>[{'enTranslation': 'worldwide commercial net',...</td>\n",
              "      <td>None</td>\n",
              "      <td>None</td>\n",
              "      <td>None</td>\n",
              "      <td>None</td>\n",
              "      <td>{'applicationType': 'Trade Mark', 'filingDate'...</td>\n",
              "      <td>None</td>\n",
              "      <td>None</td>\n",
              "      <td>None</td>\n",
              "    </tr>\n",
              "    <tr>\n",
              "      <th>1</th>\n",
              "      <td>None</td>\n",
              "      <td>[{'representationType': 'Non-Agent', 'agent': ...</td>\n",
              "      <td>T9912062H</td>\n",
              "      <td>[{'stateOfIncorporation': {'description': None...</td>\n",
              "      <td>[{'fileName': 'T9912062H.jpg', 'lodgementDate'...</td>\n",
              "      <td>[{'goodsServices': 'Lubricating oil for engine...</td>\n",
              "      <td>None</td>\n",
              "      <td>None</td>\n",
              "      <td>None</td>\n",
              "      <td>None</td>\n",
              "      <td>[{'value': 'The mark is limited to the colour(...</td>\n",
              "      <td>[{'enTranslation': None, 'phoneticEquiv': None...</td>\n",
              "      <td>None</td>\n",
              "      <td>None</td>\n",
              "      <td>None</td>\n",
              "      <td>None</td>\n",
              "      <td>{'applicationType': 'Trade Mark', 'filingDate'...</td>\n",
              "      <td>None</td>\n",
              "      <td>None</td>\n",
              "      <td>None</td>\n",
              "    </tr>\n",
              "    <tr>\n",
              "      <th>2</th>\n",
              "      <td>None</td>\n",
              "      <td>[{'representationType': 'Non-Agent', 'agent': ...</td>\n",
              "      <td>T9912063F</td>\n",
              "      <td>[{'stateOfIncorporation': {'description': None...</td>\n",
              "      <td>[{'fileName': 'T9912063F.jpg', 'lodgementDate'...</td>\n",
              "      <td>[{'goodsServices': 'Disinfectant and cleaner f...</td>\n",
              "      <td>None</td>\n",
              "      <td>None</td>\n",
              "      <td>None</td>\n",
              "      <td>None</td>\n",
              "      <td>None</td>\n",
              "      <td>[{'enTranslation': None, 'phoneticEquiv': None...</td>\n",
              "      <td>None</td>\n",
              "      <td>None</td>\n",
              "      <td>None</td>\n",
              "      <td>None</td>\n",
              "      <td>{'applicationType': 'Trade Mark', 'filingDate'...</td>\n",
              "      <td>None</td>\n",
              "      <td>None</td>\n",
              "      <td>None</td>\n",
              "    </tr>\n",
              "    <tr>\n",
              "      <th>3</th>\n",
              "      <td>None</td>\n",
              "      <td>[{'representationType': 'Non-Agent', 'agent': ...</td>\n",
              "      <td>T9912064D</td>\n",
              "      <td>[{'stateOfIncorporation': {'description': None...</td>\n",
              "      <td>[{'fileName': 'T9912064D.jpg', 'lodgementDate'...</td>\n",
              "      <td>[{'goodsServices': 'Shoe for men and lady.', '...</td>\n",
              "      <td>None</td>\n",
              "      <td>None</td>\n",
              "      <td>None</td>\n",
              "      <td>None</td>\n",
              "      <td>None</td>\n",
              "      <td>[{'enTranslation': None, 'phoneticEquiv': None...</td>\n",
              "      <td>None</td>\n",
              "      <td>None</td>\n",
              "      <td>None</td>\n",
              "      <td>None</td>\n",
              "      <td>{'applicationType': 'Trade Mark', 'filingDate'...</td>\n",
              "      <td>None</td>\n",
              "      <td>None</td>\n",
              "      <td>None</td>\n",
              "    </tr>\n",
              "    <tr>\n",
              "      <th>4</th>\n",
              "      <td>None</td>\n",
              "      <td>[{'representationType': 'Non-Agent', 'agent': ...</td>\n",
              "      <td>T9912065B</td>\n",
              "      <td>[{'stateOfIncorporation': {'description': None...</td>\n",
              "      <td>[{'fileName': 'T9912065B.jpg', 'lodgementDate'...</td>\n",
              "      <td>[{'goodsServices': 'Shoe for men and lady.', '...</td>\n",
              "      <td>None</td>\n",
              "      <td>None</td>\n",
              "      <td>None</td>\n",
              "      <td>None</td>\n",
              "      <td>None</td>\n",
              "      <td>[{'enTranslation': None, 'phoneticEquiv': None...</td>\n",
              "      <td>None</td>\n",
              "      <td>None</td>\n",
              "      <td>None</td>\n",
              "      <td>None</td>\n",
              "      <td>{'applicationType': 'Trade Mark', 'filingDate'...</td>\n",
              "      <td>None</td>\n",
              "      <td>None</td>\n",
              "      <td>None</td>\n",
              "    </tr>\n",
              "  </tbody>\n",
              "</table>\n",
              "</div>"
            ],
            "text/plain": [
              "  HMGcases  ... transformationApplicationMadridInto\n",
              "0     None  ...                                None\n",
              "1     None  ...                                None\n",
              "2     None  ...                                None\n",
              "3     None  ...                                None\n",
              "4     None  ...                                None\n",
              "\n",
              "[5 rows x 20 columns]"
            ]
          },
          "metadata": {
            "tags": []
          },
          "execution_count": 138
        }
      ]
    },
    {
      "cell_type": "code",
      "metadata": {
        "id": "cSnmeoBH72Y2",
        "colab_type": "code",
        "colab": {
          "base_uri": "https://localhost:8080/",
          "height": 80
        },
        "outputId": "1fa9a030-0da0-42a4-a78e-88065e23e493"
      },
      "source": [
        "result_index = 0\n",
        "\n",
        "df_summary = pd.DataFrame([df.loc[result_index,'summary']], index=[0])\n",
        "df_summary['lodgementDate'] = lodgement_date\n",
        "\n",
        "applicationNum = df_summary['applicationNum'][0]\n",
        "try:\n",
        "  pd.DataFrame(df.loc[result_index, 'internationalApplicationDetails'])[['IRNum']]\n",
        "except:\n",
        "  df_summary['IRNum'] = None\n",
        "else:\n",
        "  IRNum = pd.DataFrame(df.loc[result_index, 'internationalApplicationDetails'])[['IRNum']][0]\n",
        "  df_summary['IRNum'] = IRNum\n",
        "\n",
        "try:\n",
        "  pd.DataFrame(df.loc[result_index, 'markIndex'])[['wordsInMark']]\n",
        "except:\n",
        "  df_summary['wordsInMark'] = None\n",
        "else:\n",
        "  wordsInMark = pd.DataFrame(df.loc[result_index, 'markIndex'])[['wordsInMark']]\n",
        "  df_summary['wordsInMark'] = wordsInMark\n",
        "\n",
        "df_summary = df_summary[['applicationNum', 'tradeMarkType', 'wordsInMark', 'markStatus', 'lodgementDate', 'filingDate', 'registrationProcedureCompletionDate', 'expiryDate', 'IRNum']]\n",
        "df_summary"
      ],
      "execution_count": 139,
      "outputs": [
        {
          "output_type": "execute_result",
          "data": {
            "text/html": [
              "<div>\n",
              "<style scoped>\n",
              "    .dataframe tbody tr th:only-of-type {\n",
              "        vertical-align: middle;\n",
              "    }\n",
              "\n",
              "    .dataframe tbody tr th {\n",
              "        vertical-align: top;\n",
              "    }\n",
              "\n",
              "    .dataframe thead th {\n",
              "        text-align: right;\n",
              "    }\n",
              "</style>\n",
              "<table border=\"1\" class=\"dataframe\">\n",
              "  <thead>\n",
              "    <tr style=\"text-align: right;\">\n",
              "      <th></th>\n",
              "      <th>applicationNum</th>\n",
              "      <th>tradeMarkType</th>\n",
              "      <th>wordsInMark</th>\n",
              "      <th>markStatus</th>\n",
              "      <th>lodgementDate</th>\n",
              "      <th>filingDate</th>\n",
              "      <th>registrationProcedureCompletionDate</th>\n",
              "      <th>expiryDate</th>\n",
              "      <th>IRNum</th>\n",
              "    </tr>\n",
              "  </thead>\n",
              "  <tbody>\n",
              "    <tr>\n",
              "      <th>0</th>\n",
              "      <td>T9912061Z</td>\n",
              "      <td>Conventional Mark</td>\n",
              "      <td>wwcn worldwide commercial net your business ne...</td>\n",
              "      <td>Abandoned</td>\n",
              "      <td>1999-10-25</td>\n",
              "      <td>1999-10-25</td>\n",
              "      <td>None</td>\n",
              "      <td>None</td>\n",
              "      <td>None</td>\n",
              "    </tr>\n",
              "  </tbody>\n",
              "</table>\n",
              "</div>"
            ],
            "text/plain": [
              "  applicationNum      tradeMarkType  ... expiryDate IRNum\n",
              "0      T9912061Z  Conventional Mark  ...       None  None\n",
              "\n",
              "[1 rows x 9 columns]"
            ]
          },
          "metadata": {
            "tags": []
          },
          "execution_count": 139
        }
      ]
    },
    {
      "cell_type": "code",
      "metadata": {
        "id": "Hz1Qts989Aga",
        "colab_type": "code",
        "colab": {
          "base_uri": "https://localhost:8080/",
          "height": 80
        },
        "outputId": "fd739c33-0d66-4116-de21-3d00d7116a3d"
      },
      "source": [
        "df_goodsAndServicesSpecifications = pd.DataFrame(df.loc[result_index,'goodsAndServicesSpecifications'])[['classNum']]\n",
        "df_goodsAndServicesSpecifications['applicationNum'] = applicationNum\n",
        "df_goodsAndServicesSpecifications['classNum'] = df_goodsAndServicesSpecifications['classNum'].str.replace(\"Class \",\"\").astype(int)\n",
        "df_goodsAndServicesSpecifications = df_goodsAndServicesSpecifications[['applicationNum', 'classNum']]\n",
        "df_goodsAndServicesSpecifications"
      ],
      "execution_count": 140,
      "outputs": [
        {
          "output_type": "execute_result",
          "data": {
            "text/html": [
              "<div>\n",
              "<style scoped>\n",
              "    .dataframe tbody tr th:only-of-type {\n",
              "        vertical-align: middle;\n",
              "    }\n",
              "\n",
              "    .dataframe tbody tr th {\n",
              "        vertical-align: top;\n",
              "    }\n",
              "\n",
              "    .dataframe thead th {\n",
              "        text-align: right;\n",
              "    }\n",
              "</style>\n",
              "<table border=\"1\" class=\"dataframe\">\n",
              "  <thead>\n",
              "    <tr style=\"text-align: right;\">\n",
              "      <th></th>\n",
              "      <th>applicationNum</th>\n",
              "      <th>classNum</th>\n",
              "    </tr>\n",
              "  </thead>\n",
              "  <tbody>\n",
              "    <tr>\n",
              "      <th>0</th>\n",
              "      <td>T9912061Z</td>\n",
              "      <td>17</td>\n",
              "    </tr>\n",
              "  </tbody>\n",
              "</table>\n",
              "</div>"
            ],
            "text/plain": [
              "  applicationNum  classNum\n",
              "0      T9912061Z        17"
            ]
          },
          "metadata": {
            "tags": []
          },
          "execution_count": 140
        }
      ]
    },
    {
      "cell_type": "code",
      "metadata": {
        "id": "T-sgXyiN-J4T",
        "colab_type": "code",
        "colab": {
          "base_uri": "https://localhost:8080/",
          "height": 80
        },
        "outputId": "061d8fcb-1fa6-4aad-a586-5fbc1c86c67c"
      },
      "source": [
        "df_currentApplicantProprietorDetails = pd.DataFrame(df.loc[result_index, 'currentApplicantProprietorDetails'])\n",
        "df_currentApplicantProprietorDetails['applicationNum'] = applicationNum\n",
        "df_currentApplicantProprietorDetails['applicantType'] = df_currentApplicantProprietorDetails['applicantType'].apply(lambda x: x['description'])\n",
        "df_currentApplicantProprietorDetails['countryOfIncorporationOrResidence'] = df_currentApplicantProprietorDetails['countryOfIncorporationOrResidence'].apply(lambda x: x['code'])\n",
        "df_currentApplicantProprietorDetails = df_currentApplicantProprietorDetails[['applicationNum', 'uenCompanyCode', 'name', 'applicantType', 'countryOfIncorporationOrResidence']]\n",
        "df_currentApplicantProprietorDetails"
      ],
      "execution_count": 141,
      "outputs": [
        {
          "output_type": "execute_result",
          "data": {
            "text/html": [
              "<div>\n",
              "<style scoped>\n",
              "    .dataframe tbody tr th:only-of-type {\n",
              "        vertical-align: middle;\n",
              "    }\n",
              "\n",
              "    .dataframe tbody tr th {\n",
              "        vertical-align: top;\n",
              "    }\n",
              "\n",
              "    .dataframe thead th {\n",
              "        text-align: right;\n",
              "    }\n",
              "</style>\n",
              "<table border=\"1\" class=\"dataframe\">\n",
              "  <thead>\n",
              "    <tr style=\"text-align: right;\">\n",
              "      <th></th>\n",
              "      <th>applicationNum</th>\n",
              "      <th>uenCompanyCode</th>\n",
              "      <th>name</th>\n",
              "      <th>applicantType</th>\n",
              "      <th>countryOfIncorporationOrResidence</th>\n",
              "    </tr>\n",
              "  </thead>\n",
              "  <tbody>\n",
              "    <tr>\n",
              "      <th>0</th>\n",
              "      <td>T9912061Z</td>\n",
              "      <td>E00435345A</td>\n",
              "      <td>SAM YONG INTERNATIONAL NETWORK PTE LTD</td>\n",
              "      <td>Corporate</td>\n",
              "      <td>SG</td>\n",
              "    </tr>\n",
              "  </tbody>\n",
              "</table>\n",
              "</div>"
            ],
            "text/plain": [
              "  applicationNum uenCompanyCode  ... applicantType countryOfIncorporationOrResidence\n",
              "0      T9912061Z     E00435345A  ...     Corporate                                SG\n",
              "\n",
              "[1 rows x 5 columns]"
            ]
          },
          "metadata": {
            "tags": []
          },
          "execution_count": 141
        }
      ]
    },
    {
      "cell_type": "code",
      "metadata": {
        "id": "pXryoGvg-m0U",
        "colab_type": "code",
        "colab": {}
      },
      "source": [
        ""
      ],
      "execution_count": 0,
      "outputs": []
    }
  ]
}