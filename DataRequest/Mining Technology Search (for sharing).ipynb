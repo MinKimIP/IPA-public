{
 "cells": [
  {
   "cell_type": "markdown",
   "metadata": {},
   "source": [
    "<span style=\"color:red\">WIPO PUBLIC</span>\n",
    "\n",
    "# Mining search\n",
    "*version 5.0 -- AD 2019-07-24*\n",
    "\n",
    "This notebook performs a search of the WIPOstats data server for Mining patents based on the technology search performed for WIPO Economics Reserach Working Paper no. 56 [Measuring Innovation in the Mining Industry with Patents](https://www.wipo.int/publications/en/details.jsp?id=4420&plang=EN)."
   ]
  },
  {
   "cell_type": "markdown",
   "metadata": {},
   "source": [
    "## Project Specific files\n",
    "\n",
    "This notebook reads the following files for the search in the server:\n",
    "\n",
    "**search_files/..**\n",
    "\n",
    "* KWsearch.csv\n",
    "* mining_categories.csv\n",
    "* tech_search.csv"
   ]
  },
  {
   "cell_type": "code",
   "execution_count": 1,
   "metadata": {},
   "outputs": [
    {
     "name": "stdout",
     "output_type": "stream",
     "text": [
      "<_io.TextIOWrapper name='search_files/KWsearch.csv' mode='r' encoding='cp1252'>\n",
      "<_io.TextIOWrapper name='search_files/mining_categories.csv' mode='r' encoding='cp1252'>\n",
      "<_io.TextIOWrapper name='search_files/tech_search.csv' mode='r' encoding='cp1252'>\n"
     ]
    }
   ],
   "source": [
    "#check files\n",
    "with open('search_files/KWsearch.csv') as file:\n",
    "    print(file)\n",
    "with open('search_files/mining_categories.csv') as file:\n",
    "    print(file)\n",
    "with open('search_files/tech_search.csv') as file:\n",
    "    print(file)"
   ]
  },
  {
   "cell_type": "markdown",
   "metadata": {},
   "source": [
    "## Global Variables"
   ]
  },
  {
   "cell_type": "code",
   "execution_count": 2,
   "metadata": {},
   "outputs": [
    {
     "name": "stdout",
     "output_type": "stream",
     "text": [
      "patstat_plus\n"
     ]
    }
   ],
   "source": [
    "database_name = \"patstat_plus\"\n",
    "print(database_name)"
   ]
  },
  {
   "cell_type": "markdown",
   "metadata": {},
   "source": [
    "### Tables created in the server"
   ]
  },
  {
   "cell_type": "code",
   "execution_count": 3,
   "metadata": {},
   "outputs": [
    {
     "name": "stdout",
     "output_type": "stream",
     "text": [
      "patstat_plus.mining2019_kw\n",
      "patstat_plus.mining2019_e21\n",
      "patstat_plus.mining2019_patents\n",
      "patstat_plus.mining2019_min_patents\n",
      "patstat_plus.mining2019_first_fam\n"
     ]
    }
   ],
   "source": [
    "kw_table_name = database_name+\".mining2019_kw\"\n",
    "print(kw_table_name)\n",
    "e21_table_name = database_name+\".mining2019_e21\"\n",
    "print(e21_table_name)\n",
    "search_table_name = database_name+\".mining2019_patents\"\n",
    "print(search_table_name)\n",
    "min_table_name = database_name+\".mining2019_min_patents\"\n",
    "print(min_table_name)\n",
    "mining_families = database_name+\".mining2019_first_fam\"\n",
    "print(mining_families)\n",
    "#mining_families_inpadoc = database_name+\".mining2019_inpadoc\"\n",
    "#print(mining_families_inpadoc)\n",
    "#mining_families_docdb = database_name+\".mining2019_docdb\"\n",
    "#print(mining_families_docdb)"
   ]
  },
  {
   "cell_type": "markdown",
   "metadata": {},
   "source": [
    "##### Import packages"
   ]
  },
  {
   "cell_type": "code",
   "execution_count": 4,
   "metadata": {
    "collapsed": true
   },
   "outputs": [],
   "source": [
    "import numpy as np\n",
    "import pandas as pd\n",
    "import pyodbc\n",
    "import time\n",
    "import os\n",
    "import csv"
   ]
  },
  {
   "cell_type": "markdown",
   "metadata": {},
   "source": [
    "##### Create conntection to WIPOstats server"
   ]
  },
  {
   "cell_type": "code",
   "execution_count": 5,
   "metadata": {
    "collapsed": true
   },
   "outputs": [],
   "source": [
    "# global variables: database_name\n",
    "# This connect works for the WIPO MySQL database, other databases will need alternative database connections\n",
    "# UID user name deleted for sharing\n",
    "# PWD password deleted for sharing\n",
    "con = pyodbc.connect(\"\"\"DRIVER={MySQL ODBC 8.0 Unicode Driver}; \n",
    "                        SERVER=statsql.wipo.int; \n",
    "                        DATABASE=\"\"\"+database_name+\"\"\"; \n",
    "                        UID = ;\n",
    "                        PWD = \"\"\")\n",
    "\n",
    "cur = con.cursor()"
   ]
  },
  {
   "cell_type": "markdown",
   "metadata": {},
   "source": [
    "#### Keyword Search\n",
    "This is a search for mining patents based on keywords. We create a subset of patents that contain keywords related to mining in the title or abstract, based on the keywords listed in Appendix D of the [working paper](https://www.wipo.int/publications/en/details.jsp?id=4420&plang=EN). \n",
    "\n",
    "Six categories of keywords were used in five languages (English, German, Spanish, French and Portuguese) which are the most frequently occurring languages in the abstract and title tables of PATSTAT. The main keywords are only searched in fields in that language, i.e. English keywords were only searched in English titles or abstracts. Ore terms are searched in all abstracts regardless of language. The keywords were searched in the titles and abstracts and assigned a general keyword term, listed in Appendix D.\n",
    "\n",
    "Some keyword exclusions are noted, such as *mining NOT data mining*. "
   ]
  },
  {
   "cell_type": "code",
   "execution_count": 7,
   "metadata": {
    "collapsed": true
   },
   "outputs": [],
   "source": [
    "# global variable kw_table_name\n",
    "# local variables:\n",
    "KWfile = 'search_files/KWsearch.csv'\n",
    "\n",
    "# create table\n",
    "SQL = \"\"\"DROP TABLE if exists \"\"\"+kw_table_name\n",
    "cur.execute(SQL)\n",
    "con.commit()\n",
    "SQL = \"\"\"CREATE TABLE \"\"\"+kw_table_name+\"\"\" (appln_id INT\n",
    "                                              ,index(appln_id)\n",
    "                                              ,lang CHAR(2)\n",
    "                                              ,keywords CHAR(20)\n",
    "                                              ,source CHAR(5))\"\"\"\n",
    "cur.execute(SQL)\n",
    "con.commit()\n",
    "\n",
    "# perform search\n",
    "with open(KWfile) as file:\n",
    "    filereader = csv.reader(file, dialect='excel')\n",
    "    next(filereader)\n",
    "    for line in filereader:\n",
    "        if line[0] == 'kw1':\n",
    "            SQL_t = \"\"\"INSERT INTO \"\"\"+kw_table_name+\"\"\"\n",
    "                        SELECT DISTINCT t2.appln_id, t2.appln_title_lg, '\"\"\"+line[1]+\"\"\"' as keywords, 'title' as source\n",
    "                        FROM patstat.tls202_appln_title t2 \n",
    "                        WHERE t2.appln_title rlike '\"\"\"+line[3]+\"\"\"'\n",
    "                        AND t2.appln_title_lg = '\"\"\"+line[2]+\"\"\"'\"\"\"\n",
    "            SQL_a = \"\"\"INSERT INTO \"\"\"+kw_table_name+\"\"\"\n",
    "                        SELECT DISTINCT t3.appln_id, t3.appln_abstract_lg, '\"\"\"+line[1]+\"\"\"' as keywords, 'abstr' as source\n",
    "                        FROM patstat.tls203_appln_abstr t3 \n",
    "                        WHERE t3.appln_abstract rlike '\"\"\"+line[3]+\"\"\"'\n",
    "                        AND t3.appln_abstract_lg = '\"\"\"+line[2]+\"\"\"'\"\"\"\n",
    "            cur.execute(SQL_t)\n",
    "            con.commit()\n",
    "            cur.execute(SQL_a)\n",
    "            con.commit()\n",
    "        elif line[0] == 'kw3':\n",
    "            SQL_t = \"\"\"INSERT INTO \"\"\"+kw_table_name+\"\"\"\n",
    "                        SELECT DISTINCT t2.appln_id, t2.appln_title_lg, '\"\"\"+line[1]+\"\"\"' as keywords, 'title' as source\n",
    "                        FROM patstat.tls202_appln_title t2 \n",
    "                        WHERE t2.appln_title rlike '\"\"\"+line[3]+\"\"\"'\n",
    "                        AND t2.appln_title not rlike '\"\"\"+line[4]+\"\"\"'\n",
    "                        AND t2.appln_title_lg = '\"\"\"+line[2]+\"\"\"'\"\"\"\n",
    "            SQL_a = \"\"\"INSERT INTO \"\"\"+kw_table_name+\"\"\"\n",
    "                        SELECT DISTINCT t3.appln_id, t3.appln_abstract_lg, '\"\"\"+line[1]+\"\"\"' as keywords, 'abstr' as source\n",
    "                        FROM patstat.tls203_appln_abstr t3 \n",
    "                        WHERE t3.appln_abstract rlike '\"\"\"+line[3]+\"\"\"'\n",
    "                        AND t3.appln_abstract not rlike '\"\"\"+line[4]+\"\"\"'\n",
    "                        AND t3.appln_abstract_lg = '\"\"\"+line[2]+\"\"\"'\"\"\"\n",
    "            cur.execute(SQL_t)\n",
    "            con.commit()\n",
    "            cur.execute(SQL_a)\n",
    "            con.commit()            \n",
    "        elif line[0] == 'kw2':\n",
    "            SQL_t = \"\"\"INSERT INTO \"\"\"+kw_table_name+\"\"\"\n",
    "                        SELECT DISTINCT t2.appln_id, t2.appln_title_lg, '\"\"\"+line[1]+\"\"\"' as keywords, 'title' as source\n",
    "                        FROM patstat.tls202_appln_title t2 \n",
    "                        WHERE t2.appln_title rlike '\"\"\"+line[3]+\"\"\"'\"\"\"\n",
    "            SQL_a = \"\"\"INSERT INTO \"\"\"+kw_table_name+\"\"\"\n",
    "                        SELECT DISTINCT t3.appln_id, t3.appln_abstract_lg, '\"\"\"+line[1]+\"\"\"' as keywords, 'abstr' as source\n",
    "                        FROM patstat.tls203_appln_abstr t3 \n",
    "                        WHERE t3.appln_abstract rlike '\"\"\"+line[3]+\"\"\"'\"\"\"\n",
    "            cur.execute(SQL_t)\n",
    "            con.commit()\n",
    "            cur.execute(SQL_a)\n",
    "            con.commit()\n",
    "        else: end"
   ]
  },
  {
   "cell_type": "markdown",
   "metadata": {},
   "source": [
    "#### E21 search\n",
    "A second subset of data of all patents comprising at least one [E21](https://www.wipo.int/classifications/ipc/ipcpub/?notion=scheme&version=20190101&symbol=E21) IPC or CPC mark."
   ]
  },
  {
   "cell_type": "code",
   "execution_count": 8,
   "metadata": {
    "collapsed": true
   },
   "outputs": [],
   "source": [
    "# global variables: e21_table_name\n",
    "\n",
    "# create table of E21 patents\n",
    "SQL = \"\"\"DROP TABLE if exists \"\"\"+e21_table_name\n",
    "cur.execute(SQL)\n",
    "con.commit()\n",
    "SQL = \"\"\"CREATE TABLE \"\"\"+e21_table_name+\"\"\" (index(appln_id))\n",
    "SELECT DISTINCT appln_id\n",
    "FROM patstat.tls209_appln_ipc t9\n",
    "WHERE t9.ipc_class_symbol like 'E21%'\"\"\"\n",
    "cur.execute(SQL)\n",
    "con.commit()\n",
    "SQL = \"\"\"INSERT INTO \"\"\"+e21_table_name+\"\"\"\n",
    "SELECT DISTINCT appln_id\n",
    "FROM patstat.tls224_appln_cpc t24 \n",
    "WHERE t24.cpc_class_symbol like 'E21%'\"\"\"\n",
    "cur.execute(SQL)\n",
    "con.commit()"
   ]
  },
  {
   "cell_type": "markdown",
   "metadata": {},
   "source": [
    "#### Preliminary mining patents\n",
    "These two subsets of data were used as a subset of the whole PATSTAT database to search within, schematically represented below. At the same time each search string is assigned to a mining category. The mining category id numbers are listed in Appendix F of the [working paper](https://www.wipo.int/publications/en/details.jsp?id=4420&plang=EN).\n",
    "\n",
    "<img src=\"Search schema.jpg\" alt=\"Search schema\" width=\"600\">\n",
    " "
   ]
  },
  {
   "cell_type": "code",
   "execution_count": null,
   "metadata": {
    "collapsed": true,
    "scrolled": true
   },
   "outputs": [],
   "source": [
    "# global variables: kw_table_name, e21_table_name, search_table_name\n",
    "# local variables:\n",
    "searchfile = 'search_files/tech_search.csv'\n",
    "\n",
    "# create table\n",
    "SQL = \"\"\"DROP TABLE if exists \"\"\"+search_table_name\n",
    "cur.execute(SQL)\n",
    "con.commit()\n",
    "SQL = \"\"\"CREATE TABLE \"\"\"+search_table_name+\"\"\" \n",
    "            (appln_id INT\n",
    "            ,index(appln_id)\n",
    "            ,mining_cat_id DECIMAL(5,2)\n",
    "            ,index(mining_cat_id)\n",
    "            ,source CHAR(20))\"\"\"\n",
    "cur.execute(SQL)\n",
    "con.commit()\n",
    "\n",
    "# Search/Sort mining patents based on KW, IPC and combinations\n",
    " \n",
    "with open(searchfile) as file:\n",
    "    filereader = csv.reader(file, dialect='excel')\n",
    "    next(filereader)\n",
    "    for line in filereader:\n",
    "        if line[0] == 'allKW':\n",
    "            SQL_i = \"\"\"INSERT INTO \"\"\"+search_table_name+\"\"\"\n",
    "                        SELECT DISTINCT t9.appln_id, \"\"\"+line[2]+\"\"\" as mining_cat_id, 'IPC + all kw' as source\n",
    "                        FROM patstat.tls209_appln_ipc t9\n",
    "                        INNER JOIN \"\"\"+kw_table_name+\"\"\" mkw using(appln_id)\n",
    "                        WHERE t9.ipc_class_symbol like '\"\"\"+line[3]+\"\"\"%'\"\"\"\n",
    "            cur.execute(SQL_i)\n",
    "            con.commit()\n",
    "            SQL_c = \"\"\"INSERT INTO \"\"\"+search_table_name+\"\"\"\n",
    "                        SELECT DISTINCT t24.appln_id, \"\"\"+line[2]+\"\"\" as mining_cat_id, 'CPC + all kw' as source\n",
    "                        FROM patstat.tls224_appln_cpc t24\n",
    "                        INNER JOIN \"\"\"+kw_table_name+\"\"\" mkw using(appln_id)\n",
    "                        WHERE t24.cpc_class_symbol like '\"\"\"+line[3]+\"\"\"%'\"\"\"\n",
    "            cur.execute(SQL_c)\n",
    "            con.commit()\n",
    "\n",
    "        elif line[0] == 'IPCandE21':\n",
    "            SQL_i = \"\"\"INSERT INTO \"\"\"+search_table_name+\"\"\"\n",
    "                        SELECT DISTINCT t9.appln_id, \"\"\"+line[2]+\"\"\" as mining_cat_id, 'IPC combo' as source\n",
    "                        FROM patstat.tls209_appln_ipc t9\n",
    "                        INNER JOIN \"\"\"+e21_table_name+\"\"\" e21 using(appln_id)\n",
    "                        WHERE t9.ipc_class_symbol like '\"\"\"+line[3]+\"\"\"%'\"\"\"\n",
    "            cur.execute(SQL_i)\n",
    "            con.commit()\n",
    "            SQL_c = \"\"\"INSERT INTO \"\"\"+search_table_name+\"\"\"\n",
    "                        SELECT DISTINCT t24.appln_id, \"\"\"+line[2]+\"\"\" as mining_cat_id, 'CPC combo' as source\n",
    "                        FROM patstat.tls224_appln_cpc t24\n",
    "                        INNER JOIN \"\"\"+e21_table_name+\"\"\" e21 using(appln_id)\n",
    "                        WHERE t24.cpc_class_symbol like '\"\"\"+line[3]+\"\"\"%'\"\"\"\n",
    "            cur.execute(SQL_c)\n",
    "            con.commit()\n",
    "            \n",
    "        elif line[0] == 'selectKW':\n",
    "            SQL_i = \"\"\"INSERT INTO \"\"\"+search_table_name+\"\"\"\n",
    "                        SELECT DISTINCT t9.appln_id, \"\"\"+line[2]+\"\"\" as mining_cat_id, 'IPC + sel kw' as source\n",
    "                        FROM patstat.tls209_appln_ipc t9\n",
    "                        INNER JOIN \"\"\"+kw_table_name+\"\"\" mkw using(appln_id)\n",
    "                        WHERE t9.ipc_class_symbol like '\"\"\"+line[3]+\"\"\"%'\n",
    "                        AND (\"\"\"+line[4]+\"\"\") \"\"\"\n",
    "            cur.execute(SQL_i)\n",
    "            con.commit()\n",
    "            SQL_c = \"\"\"INSERT INTO \"\"\"+search_table_name+\"\"\"\n",
    "                        SELECT DISTINCT t24.appln_id, \"\"\"+line[2]+\"\"\" as mining_cat_id, 'CPC + sel kw' as source\n",
    "                        FROM patstat.tls224_appln_cpc t24\n",
    "                        INNER JOIN \"\"\"+kw_table_name+\"\"\" mkw using(appln_id)\n",
    "                        WHERE t24.cpc_class_symbol like '\"\"\"+line[3]+\"\"\"%'\n",
    "                        AND (\"\"\"+line[4]+\"\"\") \"\"\"\n",
    "            cur.execute(SQL_c)\n",
    "            con.commit()\n",
    "\n",
    "        elif line[0] == 'E21notIPC':\n",
    "            SQL_i = \"\"\"INSERT INTO \"\"\"+search_table_name+\"\"\"\n",
    "                        SELECT DISTINCT t9.appln_id, \"\"\"+line[2]+\"\"\" as mining_cat_id, 'IPC combo NOT' as source\n",
    "                        FROM patstat.tls209_appln_ipc t9\n",
    "                        INNER JOIN \"\"\"+e21_table_name+\"\"\" e21 on t9.appln_id = e21.appln_id\n",
    "                        INNER JOIN patstat.tls209_appln_ipc t9x on t9.appln_id = t9x.appln_id\n",
    "                        WHERE t9.ipc_class_symbol like '\"\"\"+line[3]+\"\"\"%'\n",
    "                        AND t9x.ipc_class_symbol not like '\"\"\"+line[5]+\"\"\"%'\"\"\"\n",
    "            cur.execute(SQL_i)\n",
    "            con.commit()\n",
    "            SQL_c = \"\"\"INSERT INTO \"\"\"+search_table_name+\"\"\"\n",
    "                        SELECT DISTINCT t24.appln_id, \"\"\"+line[2]+\"\"\" as mining_cat_id, 'CPC combo NOT' as source\n",
    "                        FROM patstat.tls224_appln_cpc t24\n",
    "                        INNER JOIN \"\"\"+e21_table_name+\"\"\" e21 on t24.appln_id = e21.appln_id\n",
    "                        INNER JOIN patstat.tls224_appln_cpc t24x on t24.appln_id = t24x.appln_id\n",
    "                        WHERE t24.cpc_class_symbol like '\"\"\"+line[3]+\"\"\"%'\n",
    "                        AND t24x.cpc_class_symbol not like '\"\"\"+line[5]+\"\"\"%'\"\"\"\n",
    "            cur.execute(SQL_c)\n",
    "            con.commit()            \n",
    "\n",
    "        elif line[0] == 'IPConly':\n",
    "            SQL_i = \"\"\"INSERT INTO \"\"\"+search_table_name+\"\"\"\n",
    "                        SELECT DISTINCT t9.appln_id, \"\"\"+line[2]+\"\"\" as mining_cat_id, 'IPC' as source\n",
    "                        FROM patstat.tls209_appln_ipc t9\n",
    "                        WHERE t9.ipc_class_symbol like '\"\"\"+line[3]+\"\"\"%'\"\"\"\n",
    "            cur.execute(SQL_i)\n",
    "            con.commit()\n",
    "            SQL_c = \"\"\"INSERT INTO \"\"\"+search_table_name+\"\"\"\n",
    "                        SELECT DISTINCT t24.appln_id, \"\"\"+line[2]+\"\"\" as mining_cat_id, 'CPC' as source\n",
    "                        FROM patstat.tls224_appln_cpc t24\n",
    "                        WHERE t24.cpc_class_symbol like '\"\"\"+line[3]+\"\"\"%'\"\"\"\n",
    "            cur.execute(SQL_c)\n",
    "            con.commit()\n",
    "\n",
    "        elif line[0] == 'KWnotIPC':\n",
    "            SQL_i = \"\"\"INSERT INTO \"\"\"+search_table_name+\"\"\"\n",
    "                        SELECT DISTINCT t9.appln_id, \"\"\"+line[2]+\"\"\" as mining_cat_id, 'IPC + sel kw NOT' as source\n",
    "                        FROM patstat.tls209_appln_ipc t9\n",
    "                        INNER JOIN \"\"\"+kw_table_name+\"\"\" mkw using(appln_id)\n",
    "                        INNER JOIN patstat.tls209_appln_ipc t9x on t9.appln_id = t9x.appln_id\n",
    "                        WHERE (\"\"\"+line[4]+\"\"\") \n",
    "                        AND t9.ipc_class_symbol like '\"\"\"+line[3]+\"\"\"%'\n",
    "                        AND t9x.ipc_class_symbol not like '\"\"\"+line[5]+\"\"\"%'\"\"\"\n",
    "            cur.execute(SQL_i)\n",
    "            con.commit()\n",
    "            SQL_c = \"\"\"INSERT INTO \"\"\"+search_table_name+\"\"\"\n",
    "                        SELECT DISTINCT t24.appln_id, \"\"\"+line[2]+\"\"\" as mining_cat_id, 'CPC + sel kw NOT' as source\n",
    "                        FROM patstat.tls224_appln_cpc t24\n",
    "                        INNER JOIN \"\"\"+kw_table_name+\"\"\" mkw using(appln_id)\n",
    "                        INNER JOIN patstat.tls224_appln_cpc t24x on t24.appln_id = t24x.appln_id\n",
    "                        WHERE (\"\"\"+line[4]+\"\"\") \n",
    "                        AND t24.cpc_class_symbol like '\"\"\"+line[3]+\"\"\"%'\n",
    "                        AND t24x.cpc_class_symbol not like '\"\"\"+line[5]+\"\"\"%'\"\"\"\n",
    "            cur.execute(SQL_c)\n",
    "            con.commit()\n",
    "\n",
    "        else: end"
   ]
  },
  {
   "cell_type": "markdown",
   "metadata": {},
   "source": [
    "The residual keyword results are also assigned a category."
   ]
  },
  {
   "cell_type": "code",
   "execution_count": null,
   "metadata": {
    "collapsed": true
   },
   "outputs": [],
   "source": [
    "# global variables: search_table_name, kw_table_name\n",
    "# local variables:\n",
    "\n",
    "# 9.97, mining\n",
    "SQL_997 = \"\"\"INSERT INTO \"\"\"+search_table_name+\"\"\"\n",
    "                SELECT DISTINCT appln_id, 9.97 as mining_cat_id, source as source\n",
    "                FROM \"\"\"+kw_table_name+\"\"\" mkw\n",
    "                WHERE (mkw.keywords = 'mining')\"\"\"\n",
    "# 9.98, mine\n",
    "SQL_998 = \"\"\"INSERT INTO \"\"\"+search_table_name+\"\"\"\n",
    "                SELECT DISTINCT appln_id, 9.98 as mining_cat_id, source as source\n",
    "                FROM \"\"\"+kw_table_name+\"\"\" mkw\n",
    "                WHERE (mkw.keywords = 'mine')\"\"\"\n",
    "# 109.1, ore\n",
    "SQL_1091 = \"\"\"INSERT INTO \"\"\"+search_table_name+\"\"\"\n",
    "                SELECT DISTINCT appln_id, 109.1 as mining_cat_id, source as source\n",
    "                FROM \"\"\"+kw_table_name+\"\"\" mkw\n",
    "                WHERE (mkw.keywords = 'ore')\"\"\"\n",
    "# 109.2, ore%\n",
    "SQL_1092 = \"\"\"INSERT INTO \"\"\"+search_table_name+\"\"\"\n",
    "                SELECT DISTINCT appln_id, 109.2 as mining_cat_id, source as source\n",
    "                FROM \"\"\"+kw_table_name+\"\"\" mkw\n",
    "                WHERE (mkw.keywords like 'ore:%')\"\"\"\n",
    "# 109.3, mineral\n",
    "SQL_1093 = \"\"\"INSERT INTO \"\"\"+search_table_name+\"\"\"\n",
    "                SELECT DISTINCT appln_id, 109.3 as mining_cat_id, source as source\n",
    "                FROM \"\"\"+kw_table_name+\"\"\" mkw\n",
    "                WHERE (mkw.keywords = 'mineral')\"\"\"\n",
    "# 109.4, coal\n",
    "SQL_1094 = \"\"\"INSERT INTO \"\"\"+search_table_name+\"\"\"\n",
    "                SELECT DISTINCT appln_id, 109.4 as mining_cat_id, source as source\n",
    "                FROM \"\"\"+kw_table_name+\"\"\" mkw\n",
    "                WHERE (mkw.keywords = 'coal')\"\"\"\n",
    "\n",
    "cur.execute(SQL_997)\n",
    "con.commit()\n",
    "cur.execute(SQL_998)\n",
    "con.commit()\n",
    "cur.execute(SQL_1091)\n",
    "con.commit()\n",
    "cur.execute(SQL_1092)\n",
    "con.commit()\n",
    "cur.execute(SQL_1093)\n",
    "con.commit()\n",
    "cur.execute(SQL_1094)\n",
    "con.commit()"
   ]
  },
  {
   "cell_type": "markdown",
   "metadata": {},
   "source": [
    "Some minor renumbering, dropping observations in (early) exclusions that include E21\n"
   ]
  },
  {
   "cell_type": "code",
   "execution_count": null,
   "metadata": {
    "collapsed": true
   },
   "outputs": [],
   "source": [
    "# global variables: search_table_name, e21_table_name\n",
    "# local variables:\n",
    "\n",
    "SQL = \"\"\"DELETE FROM \"\"\"+search_table_name+\"\"\"\n",
    "            WHERE mining_cat_id < 1\n",
    "            AND appln_id in (SELECT appln_id\n",
    "                            FROM \"\"\"+e21_table_name+\"\"\" e21)\"\"\"\n",
    "cur.execute(SQL)\n",
    "con.commit()"
   ]
  },
  {
   "cell_type": "markdown",
   "metadata": {},
   "source": [
    "### Cateogry minimization\n",
    "\n",
    "In order to assign one category to each patent (based on a manually assigned hierarchy of technologies that occur in the mining sector), each category was assigned a mining category id number when performing the search above. Now we will take the minimum of all the mining category id numbers assigned to each patent to determine the principal category for each patent. \n",
    "\n",
    "For example, if a patent application is assigned both categories 3.3 (separation) and 6.1 (exploration), then the minimum of 3.3 would be the final category for that patent application."
   ]
  },
  {
   "cell_type": "code",
   "execution_count": null,
   "metadata": {
    "collapsed": true
   },
   "outputs": [],
   "source": [
    "# global variables: search_table_name, min_table_name\n",
    "# local variables:\n",
    "\n",
    "# create table\n",
    "SQL = \"\"\"DROP TABLE if exists \"\"\"+min_table_name\n",
    "cur.execute(SQL)\n",
    "con.commit()\n",
    "SQL = \"\"\"CREATE TABLE \"\"\"+min_table_name+\"\"\" AS\n",
    "            SELECT appln_id, min(mining_cat_id) as min_mining_cat_id\n",
    "            FROM \"\"\"+search_table_name+\"\"\"\n",
    "            GROUP BY appln_id\"\"\"\n",
    "cur.execute(SQL)\n",
    "con.commit()\n",
    "SQL = \"\"\"ALTER TABLE \"\"\"+min_table_name+\"\"\" ADD index(appln_id,min_mining_cat_id)\"\"\"\n",
    "cur.execute(SQL)\n",
    "con.commit()"
   ]
  },
  {
   "cell_type": "markdown",
   "metadata": {},
   "source": [
    "Renumber in process Exclusions"
   ]
  },
  {
   "cell_type": "code",
   "execution_count": null,
   "metadata": {
    "collapsed": true
   },
   "outputs": [],
   "source": [
    "# global variables: min_table_name\n",
    "\n",
    "SQL_311 = \"\"\"UPDATE \"\"\"+min_table_name+\"\"\" mt\n",
    "                SET mt.min_mining_cat_id = 100.91\n",
    "                WHERE mt.min_mining_cat_id = 3.11\"\"\"\n",
    "SQL_441 = \"\"\"UPDATE \"\"\"+min_table_name+\"\"\" mt\n",
    "                SET mt.min_mining_cat_id = 100.92\n",
    "                WHERE mt.min_mining_cat_id = 4.41\"\"\"\n",
    "SQL_471 = \"\"\"UPDATE \"\"\"+min_table_name+\"\"\" mt\n",
    "                SET mt.min_mining_cat_id = 100.93\n",
    "                WHERE mt.min_mining_cat_id = 4.71\"\"\"\n",
    "SQL_961 = \"\"\"UPDATE \"\"\"+min_table_name+\"\"\" mt\n",
    "                SET mt.min_mining_cat_id = 100.94\n",
    "                WHERE mt.min_mining_cat_id = 9.61\"\"\"\n",
    "SQL_631 = \"\"\"UPDATE \"\"\"+min_table_name+\"\"\" mt\n",
    "                SET mt.min_mining_cat_id = 100.94\n",
    "                WHERE mt.min_mining_cat_id = 6.31\"\"\"\n",
    "cur.execute(SQL_311)\n",
    "con.commit()\n",
    "cur.execute(SQL_441)\n",
    "con.commit()\n",
    "cur.execute(SQL_471)\n",
    "con.commit()\n",
    "cur.execute(SQL_961)\n",
    "con.commit()\n",
    "cur.execute(SQL_631)\n",
    "con.commit()\n"
   ]
  },
  {
   "cell_type": "markdown",
   "metadata": {},
   "source": [
    "### Create Mining Families Table\n",
    "Using WIPO patent famlies.\n",
    "\n",
    "*N.B. if other families are prefered, join at this point to patstat.tls201_appln to retrive inpadoc or docdb families using the second cell*"
   ]
  },
  {
   "cell_type": "code",
   "execution_count": null,
   "metadata": {
    "collapsed": true
   },
   "outputs": [],
   "source": [
    "# create families table in server\n",
    "SQL = \"\"\"DROP TABLE if exists \"\"\"+mining_families\n",
    "cur.execute(SQL)\n",
    "con.commit()\n",
    "SQL = \"\"\"CREATE TABLE \"\"\"+mining_families+\"\"\" (index(appln_id,fam_id))\n",
    "            SELECT DISTINCT ffr2.fam_id, ffr2.appln_id, min(w.min_mining_cat_id) as min_mining_cat_id \n",
    "            FROM \"\"\"+min_table_name+\"\"\" w\n",
    "            INNER JOIN gstat_miscellaneous.family_appln_relation ffr on w.appln_id = ffr.appln_id\n",
    "            INNER JOIN gstat_miscellaneous.family_appln_relation ffr2 on ffr.fam_id = ffr2.fam_id\n",
    "            GROUP BY ffr2.fam_id, ffr2.appln_id\"\"\"\n",
    "cur.execute(SQL)\n",
    "con.commit()"
   ]
  },
  {
   "cell_type": "code",
   "execution_count": null,
   "metadata": {
    "collapsed": true
   },
   "outputs": [],
   "source": [
    "# # create alternative families table in server\n",
    "# # INPADOC\n",
    "# SQL = \"\"\"DROP TABLE if exists \"\"\"+mining_families_inpadoc\n",
    "# cur.execute(SQL)\n",
    "# con.commit()\n",
    "# SQL = \"\"\"CREATE TABLE \"\"\"+mining_families_inpadoc+\"\"\" (index(appln_id,inpadoc_family_id))\n",
    "#             SELECT DISTINCT t1a.inpadoc_family_id, t1b.appln_id, w.min_mining_cat_id\n",
    "#             FROM \"\"\"+min_table_name+\"\"\" w\n",
    "#             INNER JOIN patstat.tls201_appln t1a on w.appln_id=t1a.appln_id\n",
    "#             INNER JOIN patstat.tls201_appln t1b on t1a.inpadoc_family_id=t1b.inpadoc_family_id\"\"\"\n",
    "# cur.execute(SQL)\n",
    "# con.commit()\n",
    "\n",
    "# # DOCDB\n",
    "# SQL = \"\"\"DROP TABLE if exists \"\"\"+mining_families_docdb\n",
    "# cur.execute(SQL)\n",
    "# con.commit()\n",
    "# SQL = \"\"\"CREATE TABLE \"\"\"+mining_families_docdb+\"\"\" (index(appln_id,docdb_family_id))\n",
    "#             SELECT DISTINCT t1a.docdb_family_id, t1b.appln_id, w.min_mining_cat_id\n",
    "#             FROM \"\"\"+min_table_name+\"\"\" w\n",
    "#             INNER JOIN patstat.tls201_appln t1a on w.appln_id=t1a.appln_id\n",
    "#             INNER JOIN patstat.tls201_appln t1b on t1a.docdb_family_id=t1b.docdb_family_id\"\"\"\n",
    "# cur.execute(SQL)\n",
    "# con.commit()\n",
    "\n",
    "# # add first filing flag - INPADOC\n",
    "# SQL = \"\"\"ALTER TABLE \"\"\"+mining_families_inpadoc+\"\"\"\n",
    "#             ADD COLUMN first_filing tinyint default 1, add index(first_filing)\"\"\"\n",
    "# cur.execute(SQL)\n",
    "# con.commit()\n",
    "# SQL = \"\"\"UPDATE \"\"\"+mining_families_inpadoc+\"\"\" w \n",
    "#             INNER JOIN patstat.tls201_appln t1 using(appln_id)\n",
    "#             SET w.first_filing=0 \n",
    "#             WHERE w.first_filing=1 and (t1.appln_kind not in ('A','U','W') or t1.internat_appln_id>0)\"\"\"\n",
    "# cur.execute(SQL)\n",
    "# con.commit()\n",
    "# SQL = \"\"\"UPDATE \"\"\"+mining_families_inpadoc+\"\"\" w \n",
    "#             INNER JOIN patstat.tls204_appln_prior t4 on w.appln_id=t4.appln_id\n",
    "#             INNER JOIN patstat.tls201_appln t1 on t4.prior_appln_id=t1.appln_id\n",
    "#             SET w.first_filing=0 \n",
    "#             WHERE w.first_filing=1 and t1.appln_kind in ('A','U','W')\"\"\"\n",
    "# cur.execute(SQL)\n",
    "# con.commit()\n",
    "# SQL = \"\"\"UPDATE \"\"\"+mining_families_inpadoc+\"\"\" w \n",
    "#             INNER JOIN patstat.tls216_appln_contn t16 on w.appln_id=t16.appln_id\n",
    "#             INNER JOIN patstat.tls201_appln t1 on t16.parent_appln_id=t1.appln_id\n",
    "#             SET w.first_filing=0 \n",
    "#             WHERE w.first_filing=1 and t1.appln_kind in ('A','U','W')\"\"\"\n",
    "# cur.execute(SQL)\n",
    "# con.commit()\n",
    "\n",
    "# # add first filing flag - DOCDB\n",
    "# SQL = \"\"\"ALTER TABLE \"\"\"+mining_families_docdb+\"\"\"\n",
    "#             ADD COLUMN first_filing tinyint default 1, add index(first_filing)\"\"\"\n",
    "# cur.execute(SQL)\n",
    "# con.commit()\n",
    "# SQL = \"\"\"UPDATE \"\"\"+mining_families_docdb+\"\"\" w \n",
    "#             INNER JOIN patstat.tls201_appln t1 using(appln_id)\n",
    "#             SET w.first_filing=0 \n",
    "#             WHERE w.first_filing=1 and (t1.appln_kind not in ('A','U','W') or t1.internat_appln_id>0)\"\"\"\n",
    "# cur.execute(SQL)\n",
    "# con.commit()\n",
    "# SQL = \"\"\"UPDATE \"\"\"+mining_families_docdb+\"\"\" w \n",
    "#             INNER JOIN patstat.tls204_appln_prior t4 on w.appln_id=t4.appln_id\n",
    "#             INNER JOIN patstat.tls201_appln t1 on t4.prior_appln_id=t1.appln_id\n",
    "#             SET w.first_filing=0 \n",
    "#             WHERE w.first_filing=1 and t1.appln_kind in ('A','U','W')\"\"\"\n",
    "# cur.execute(SQL)\n",
    "# con.commit()\n",
    "# SQL = \"\"\"UPDATE \"\"\"+mining_families_docdb+\"\"\" w \n",
    "#             INNER JOIN patstat.tls216_appln_contn t16 on w.appln_id=t16.appln_id\n",
    "#             INNER JOIN patstat.tls201_appln t1 on t16.parent_appln_id=t1.appln_id\n",
    "#             SET w.first_filing=0 \n",
    "#             WHERE w.first_filing=1 and t1.appln_kind in ('A','U','W')\"\"\"\n",
    "# cur.execute(SQL)\n",
    "# con.commit()"
   ]
  },
  {
   "cell_type": "markdown",
   "metadata": {},
   "source": [
    "##### Close connection to server"
   ]
  },
  {
   "cell_type": "code",
   "execution_count": null,
   "metadata": {
    "collapsed": true
   },
   "outputs": [],
   "source": [
    "con.close()"
   ]
  }
 ],
 "metadata": {
  "kernelspec": {
   "display_name": "Python 3",
   "language": "python",
   "name": "python3"
  },
  "language_info": {
   "codemirror_mode": {
    "name": "ipython",
    "version": 3
   },
   "file_extension": ".py",
   "mimetype": "text/x-python",
   "name": "python",
   "nbconvert_exporter": "python",
   "pygments_lexer": "ipython3",
   "version": "3.6.1"
  }
 },
 "nbformat": 4,
 "nbformat_minor": 2
}
