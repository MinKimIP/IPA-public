{
 "cells": [
  {
   "cell_type": "markdown",
   "metadata": {},
   "source": [
    "<span style=\"color:red\">WIPO PUBLIC</span> \n",
    "\n",
    "# Mining Technology Dataset\n",
    "* *version 1.0 -- AD 2019-07-27*\n",
    "* *version 1.1 -- AD 2019-07-27* -- adding code for obtaining figure data\n",
    "\n",
    "\n",
    "This notebook retrieves all the mining technology subset data required for analysis"
   ]
  },
  {
   "cell_type": "markdown",
   "metadata": {},
   "source": [
    "## Project Outputs\n",
    "\n",
    "This project creates the following files:\n",
    "\n",
    "##### raw_data\n",
    "* mining_first_fam.csv (WIPO families, exclusions not yet removed)\n",
    "* mining_automation.csv (WIPO families with automation tag)\n",
    "\n",
    "##### analysis_data\n",
    "* mining_first_fam.csv (WIPO families, exclusions removed)\n",
    "* mining_first_fam_sum.csv (summary table for families)\n",
    "* mining_first_fam_app.csv (family relation table)\n",
    "\n",
    "##### agg_data\n",
    "* mining_fam_counts.csv (aggregated mining data by year and origin for quick analysis or RSI calcs)\n",
    "* first_fam_counts.csv (aggregated comparison data of all technologies)\n",
    "* RSI_mining_ff.csv (aggregated mining data for RSI calculations)"
   ]
  },
  {
   "cell_type": "markdown",
   "metadata": {},
   "source": [
    "## Global Variables"
   ]
  },
  {
   "cell_type": "code",
   "execution_count": 1,
   "metadata": {},
   "outputs": [
    {
     "name": "stdout",
     "output_type": "stream",
     "text": [
      "patstat_plus\n",
      "patstat_plus.mining2019_min_patents\n",
      "patstat_plus.mining2019_patents\n",
      "patstat_plus.mining2019_first_fam\n"
     ]
    }
   ],
   "source": [
    "# global variables\n",
    "database_name = \"patstat_plus\"\n",
    "print(database_name)\n",
    "\n",
    "## These tables are from the original mining search\n",
    "#mining_patents_table = database_name+\".mining_tech_min\"\n",
    "#search_table_name = database_name+\".mining_patents\"\n",
    "#mining_families = database_name+\".mining_first_fam\"\n",
    "\n",
    "# These tables are from the updated 2019 version of the search\n",
    "mining_patents_table = database_name+\".mining2019_min_patents\"\n",
    "search_table_name = database_name+\".mining2019_patents\"\n",
    "mining_families = database_name+\".mining2019_first_fam\"\n",
    "\n",
    "## Can also consider INPADOC or DOCDB familiy tables\n",
    "#mining_families = database_name+\".mining_inpadoc_fam\"\n",
    "#mining_families = database_name+\".mining2019_inpadoc\"\n",
    "#mining_families = database_name+\".mining2019_docdb\"\n",
    "\n",
    "print(mining_patents_table)\n",
    "print(search_table_name)\n",
    "print(mining_families)"
   ]
  },
  {
   "cell_type": "markdown",
   "metadata": {},
   "source": [
    "##### Import packages"
   ]
  },
  {
   "cell_type": "code",
   "execution_count": 2,
   "metadata": {
    "collapsed": true
   },
   "outputs": [],
   "source": [
    "import numpy as np\n",
    "import pandas as pd\n",
    "import pyodbc\n",
    "import time\n",
    "import os\n",
    "import csv\n",
    "import re"
   ]
  },
  {
   "cell_type": "markdown",
   "metadata": {},
   "source": [
    "##### Create conntection to WIPOstats server"
   ]
  },
  {
   "cell_type": "code",
   "execution_count": null,
   "metadata": {
    "collapsed": true
   },
   "outputs": [],
   "source": [
    "# global variables: database_name\n",
    "# This connect works for the WIPO MySQL database, other databases will need alternative database connections\n",
    "# UID user name deleted for sharing\n",
    "# PWD password deleted for sharing\n",
    "con = pyodbc.connect(\"\"\"DRIVER={MySQL ODBC 8.0 Unicode Driver}; \n",
    "                        SERVER=statsql.wipo.int; \n",
    "                        DATABASE=\"\"\"+database_name+\"\"\"; \n",
    "                        UID = ;\n",
    "                        PWD = \"\"\")\n",
    "\n",
    "cur = con.cursor()"
   ]
  },
  {
   "cell_type": "markdown",
   "metadata": {},
   "source": [
    "##### Create a function for importing data from server to dataframes"
   ]
  },
  {
   "cell_type": "code",
   "execution_count": 4,
   "metadata": {
    "collapsed": true
   },
   "outputs": [],
   "source": [
    "def get_data(custom_sql):\n",
    "    SQL = custom_sql\n",
    "    df_name = pd.read_sql(SQL, con)\n",
    "    return df_name"
   ]
  },
  {
   "cell_type": "markdown",
   "metadata": {},
   "source": [
    "##### Download families raw data and remove exclusions "
   ]
  },
  {
   "cell_type": "code",
   "execution_count": 5,
   "metadata": {
    "collapsed": true
   },
   "outputs": [],
   "source": [
    "## download families raw data\n",
    "#SQL = \"\"\"SELECT DISTINCT * FROM \"\"\"+mining_families\n",
    "#FF_df = get_data(SQL)\n",
    "#FF_df.drop_duplicates()\n",
    "#FF_df.to_csv(\"raw_data/mining_first_fam.csv\",header=True,index=False)"
   ]
  },
  {
   "cell_type": "code",
   "execution_count": 3,
   "metadata": {
    "collapsed": true
   },
   "outputs": [],
   "source": [
    "# upload family data from csv if already downloaded from server\n",
    "FF_df = pd.read_csv('raw_data/mining_first_fam.csv')"
   ]
  },
  {
   "cell_type": "code",
   "execution_count": 4,
   "metadata": {
    "collapsed": true
   },
   "outputs": [],
   "source": [
    "# apply minimum for category per family\n",
    "FF_min = FF_df.groupby('fam_id')['min_mining_cat_id'].min()\n",
    "FF_min = FF_min.to_frame()\n",
    "FF_min = FF_min.rename(columns={\"min_mining_cat_id\": \"new_min_mining_cat_id\"})\n",
    "FF_min = FF_min.reset_index()\n",
    "FF_df = pd.merge(FF_df,FF_min, how='left', on='fam_id')\n",
    "FF_df = FF_df.drop('min_mining_cat_id', axis=1)\n",
    "FF_df = FF_df.rename(columns={\"new_min_mining_cat_id\": \"min_mining_cat_id\"})\n",
    "\n",
    "# apply floor to get level 1 data\n",
    "FF_df['min_mining_lvl_id'] = FF_df['min_mining_cat_id'].apply(np.floor)\n",
    "FF_df.drop_duplicates()\n",
    "\n",
    "# drop exclusions\n",
    "FF_df = FF_df.set_index('min_mining_lvl_id')\n",
    "FF_df = FF_df.drop(0)\n",
    "FF_df = FF_df.drop(100)\n",
    "FF_df = FF_df.drop(109)\n",
    "FF_df = FF_df.reset_index()\n",
    "\n",
    "FF_df = FF_df.set_index('min_mining_cat_id')\n",
    "FF_df = FF_df.drop(6.29)\n",
    "FF_df = FF_df.reset_index()"
   ]
  },
  {
   "cell_type": "markdown",
   "metadata": {},
   "source": [
    "### Get analysis tables"
   ]
  },
  {
   "cell_type": "markdown",
   "metadata": {},
   "source": [
    "#### Automation flag"
   ]
  },
  {
   "cell_type": "code",
   "execution_count": 8,
   "metadata": {
    "collapsed": true
   },
   "outputs": [],
   "source": [
    "#SQL = \"\"\"SELECT DISTINCT ffr.fam_id, 'Y' as automation_flag\n",
    "#         FROM \"\"\"+search_table_name+\"\"\" w\n",
    "#         INNER JOIN gstat_miscellaneous.family_appln_relation ffr on w.appln_id = ffr.appln_id\n",
    "#         WHERE mining_cat_id = 10\"\"\"\n",
    "#auto_df = get_data(SQL)\n",
    "#auto_df = auto_df.drop_duplicates()\n",
    "#auto_df.to_csv(\"raw_data/mining_automation.csv\",header=True,index=False)\n",
    "#\n",
    "#FF_df = pd.merge(FF_df,auto_df, how='left', on='fam_id')\n",
    "#FF_df['automation_flag'] = FF_df['automation_flag'].fillna(value='N')\n",
    "#FF_df.drop_duplicates()\n",
    "#FF_df.to_csv(\"analysis_data/mining_first_fam.csv\",header=True,index=False)"
   ]
  },
  {
   "cell_type": "code",
   "execution_count": 5,
   "metadata": {
    "collapsed": true
   },
   "outputs": [],
   "source": [
    "# upload family data from csv if already downloaded from server\n",
    "FF_df = pd.read_csv('analysis_data/mining_first_fam.csv')"
   ]
  },
  {
   "cell_type": "markdown",
   "metadata": {},
   "source": [
    "Keep only fam_id for merging with additional tables below"
   ]
  },
  {
   "cell_type": "code",
   "execution_count": 6,
   "metadata": {
    "collapsed": true
   },
   "outputs": [],
   "source": [
    "fam_id = FF_df[['fam_id']]"
   ]
  },
  {
   "cell_type": "markdown",
   "metadata": {},
   "source": [
    "#### Family summary data"
   ]
  },
  {
   "cell_type": "code",
   "execution_count": 11,
   "metadata": {
    "collapsed": true,
    "scrolled": true
   },
   "outputs": [],
   "source": [
    "#SQL = \"\"\"SELECT DISTINCT fs.*\n",
    "#         FROM \"\"\"+mining_families+\"\"\" w\n",
    "#         INNER JOIN gstat_miscellaneous.family_summary fs using(fam_id)\"\"\"\n",
    "#fam_sum_df = get_data(SQL)\n",
    "#fam_sum_df = pd.merge(fam_id,fam_sum_df, how='inner', on='fam_id')\n",
    "#fam_sum_df.drop_duplicates()\n",
    "#fam_sum_df.to_csv(\"analysis_data/mining_first_fam_sum.csv\",header=True,index=False)"
   ]
  },
  {
   "cell_type": "code",
   "execution_count": 7,
   "metadata": {
    "collapsed": true
   },
   "outputs": [],
   "source": [
    "# upload family data from csv if already downloaded from server\n",
    "fam_sum_df = pd.read_csv('analysis_data/mining_first_fam_sum.csv')"
   ]
  },
  {
   "cell_type": "markdown",
   "metadata": {},
   "source": [
    "#### Family application data"
   ]
  },
  {
   "cell_type": "code",
   "execution_count": 12,
   "metadata": {
    "collapsed": true
   },
   "outputs": [],
   "source": [
    "#SQL = \"\"\"SELECT DISTINCT far.fam_id, far.appln_id, far.office_code, far.year\n",
    "#         FROM \"\"\"+mining_families+\"\"\" w\n",
    "#         INNER JOIN gstat_miscellaneous.family_appln_relation far using(fam_id)\"\"\"\n",
    "#fam_app_df = get_data(SQL)\n",
    "#fam_app_df = pd.merge(fam_id,fam_app_df, how='inner', on='fam_id')\n",
    "#fam_app_df.drop_duplicates()\n",
    "#fam_app_df.to_csv(\"analysis_data/mining_first_fam_app.csv\",header=True,index=False)"
   ]
  },
  {
   "cell_type": "code",
   "execution_count": 8,
   "metadata": {
    "collapsed": true
   },
   "outputs": [],
   "source": [
    "# upload family data from csv if already downloaded from server\n",
    "fam_app_df = pd.read_csv('analysis_data/mining_first_fam_app.csv')"
   ]
  },
  {
   "cell_type": "markdown",
   "metadata": {},
   "source": [
    "#### Data aggregations for RSI\n",
    "Aggregate by category, country, year\n"
   ]
  },
  {
   "cell_type": "code",
   "execution_count": 9,
   "metadata": {},
   "outputs": [
    {
     "data": {
      "text/html": [
       "<div>\n",
       "<style>\n",
       "    .dataframe thead tr:only-child th {\n",
       "        text-align: right;\n",
       "    }\n",
       "\n",
       "    .dataframe thead th {\n",
       "        text-align: left;\n",
       "    }\n",
       "\n",
       "    .dataframe tbody tr th {\n",
       "        vertical-align: top;\n",
       "    }\n",
       "</style>\n",
       "<table border=\"1\" class=\"dataframe\">\n",
       "  <thead>\n",
       "    <tr style=\"text-align: right;\">\n",
       "      <th></th>\n",
       "      <th>fam_id</th>\n",
       "      <th>min_mining_lvl_id</th>\n",
       "      <th>origin</th>\n",
       "      <th>year</th>\n",
       "      <th>automation_flag</th>\n",
       "    </tr>\n",
       "  </thead>\n",
       "  <tbody>\n",
       "    <tr>\n",
       "      <th>0</th>\n",
       "      <td>387</td>\n",
       "      <td>5.0</td>\n",
       "      <td>DE</td>\n",
       "      <td>2008</td>\n",
       "      <td>N</td>\n",
       "    </tr>\n",
       "    <tr>\n",
       "      <th>1</th>\n",
       "      <td>387</td>\n",
       "      <td>5.0</td>\n",
       "      <td>DE</td>\n",
       "      <td>2008</td>\n",
       "      <td>N</td>\n",
       "    </tr>\n",
       "    <tr>\n",
       "      <th>2</th>\n",
       "      <td>387</td>\n",
       "      <td>5.0</td>\n",
       "      <td>DE</td>\n",
       "      <td>2008</td>\n",
       "      <td>N</td>\n",
       "    </tr>\n",
       "    <tr>\n",
       "      <th>3</th>\n",
       "      <td>387</td>\n",
       "      <td>5.0</td>\n",
       "      <td>DE</td>\n",
       "      <td>2008</td>\n",
       "      <td>N</td>\n",
       "    </tr>\n",
       "    <tr>\n",
       "      <th>4</th>\n",
       "      <td>387</td>\n",
       "      <td>5.0</td>\n",
       "      <td>DE</td>\n",
       "      <td>2008</td>\n",
       "      <td>N</td>\n",
       "    </tr>\n",
       "  </tbody>\n",
       "</table>\n",
       "</div>"
      ],
      "text/plain": [
       "   fam_id  min_mining_lvl_id origin  year automation_flag\n",
       "0     387                5.0     DE  2008               N\n",
       "1     387                5.0     DE  2008               N\n",
       "2     387                5.0     DE  2008               N\n",
       "3     387                5.0     DE  2008               N\n",
       "4     387                5.0     DE  2008               N"
      ]
     },
     "execution_count": 9,
     "metadata": {},
     "output_type": "execute_result"
    }
   ],
   "source": [
    "# create summary table for aggregating\n",
    "summary_FF_mining = pd.merge(FF_df,fam_sum_df, how='left', on='fam_id')\n",
    "summary_FF_mining = summary_FF_mining[['fam_id', 'min_mining_lvl_id','origin','year','automation_flag']]\n",
    "summary_FF_mining.head()"
   ]
  },
  {
   "cell_type": "code",
   "execution_count": 90,
   "metadata": {},
   "outputs": [
    {
     "data": {
      "text/html": [
       "<div>\n",
       "<style>\n",
       "    .dataframe thead tr:only-child th {\n",
       "        text-align: right;\n",
       "    }\n",
       "\n",
       "    .dataframe thead th {\n",
       "        text-align: left;\n",
       "    }\n",
       "\n",
       "    .dataframe tbody tr th {\n",
       "        vertical-align: top;\n",
       "    }\n",
       "</style>\n",
       "<table border=\"1\" class=\"dataframe\">\n",
       "  <thead>\n",
       "    <tr style=\"text-align: right;\">\n",
       "      <th></th>\n",
       "      <th></th>\n",
       "      <th>total_mining_families</th>\n",
       "    </tr>\n",
       "    <tr>\n",
       "      <th>year</th>\n",
       "      <th>origin</th>\n",
       "      <th></th>\n",
       "    </tr>\n",
       "  </thead>\n",
       "  <tbody>\n",
       "    <tr>\n",
       "      <th rowspan=\"5\" valign=\"top\">1970</th>\n",
       "      <th>AR</th>\n",
       "      <td>2</td>\n",
       "    </tr>\n",
       "    <tr>\n",
       "      <th>AT</th>\n",
       "      <td>36</td>\n",
       "    </tr>\n",
       "    <tr>\n",
       "      <th>AU</th>\n",
       "      <td>115</td>\n",
       "    </tr>\n",
       "    <tr>\n",
       "      <th>BA</th>\n",
       "      <td>1</td>\n",
       "    </tr>\n",
       "    <tr>\n",
       "      <th>BE</th>\n",
       "      <td>85</td>\n",
       "    </tr>\n",
       "  </tbody>\n",
       "</table>\n",
       "</div>"
      ],
      "text/plain": [
       "             total_mining_families\n",
       "year origin                       \n",
       "1970 AR                          2\n",
       "     AT                         36\n",
       "     AU                        115\n",
       "     BA                          1\n",
       "     BE                         85"
      ]
     },
     "execution_count": 90,
     "metadata": {},
     "output_type": "execute_result"
    }
   ],
   "source": [
    "# sum total mining\n",
    "min_total = summary_FF_mining[['fam_id','origin','year']]\n",
    "min_total = min_total.drop_duplicates()\n",
    "min_total = min_total.fillna(0)\n",
    "min_total = min_total.groupby(['year', 'origin'])['fam_id'].count()\n",
    "min_total = min_total.to_frame()\n",
    "min_total = min_total.rename(columns={\"fam_id\": \"total_mining_families\"})\n",
    "min_total.to_csv(\"agg_data/mining_fam_counts.csv\",header=True,index=True)\n",
    "min_total.head()"
   ]
  },
  {
   "cell_type": "code",
   "execution_count": 91,
   "metadata": {},
   "outputs": [
    {
     "data": {
      "text/html": [
       "<div>\n",
       "<style>\n",
       "    .dataframe thead tr:only-child th {\n",
       "        text-align: right;\n",
       "    }\n",
       "\n",
       "    .dataframe thead th {\n",
       "        text-align: left;\n",
       "    }\n",
       "\n",
       "    .dataframe tbody tr th {\n",
       "        vertical-align: top;\n",
       "    }\n",
       "</style>\n",
       "<table border=\"1\" class=\"dataframe\">\n",
       "  <thead>\n",
       "    <tr style=\"text-align: right;\">\n",
       "      <th></th>\n",
       "      <th></th>\n",
       "      <th>total_mining_families</th>\n",
       "      <th>automation families</th>\n",
       "    </tr>\n",
       "    <tr>\n",
       "      <th>year</th>\n",
       "      <th>origin</th>\n",
       "      <th></th>\n",
       "      <th></th>\n",
       "    </tr>\n",
       "  </thead>\n",
       "  <tbody>\n",
       "    <tr>\n",
       "      <th rowspan=\"5\" valign=\"top\">1970</th>\n",
       "      <th>AR</th>\n",
       "      <td>2</td>\n",
       "      <td>NaN</td>\n",
       "    </tr>\n",
       "    <tr>\n",
       "      <th>AT</th>\n",
       "      <td>36</td>\n",
       "      <td>1.0</td>\n",
       "    </tr>\n",
       "    <tr>\n",
       "      <th>AU</th>\n",
       "      <td>115</td>\n",
       "      <td>NaN</td>\n",
       "    </tr>\n",
       "    <tr>\n",
       "      <th>BA</th>\n",
       "      <td>1</td>\n",
       "      <td>NaN</td>\n",
       "    </tr>\n",
       "    <tr>\n",
       "      <th>BE</th>\n",
       "      <td>85</td>\n",
       "      <td>NaN</td>\n",
       "    </tr>\n",
       "  </tbody>\n",
       "</table>\n",
       "</div>"
      ],
      "text/plain": [
       "             total_mining_families  automation families\n",
       "year origin                                            \n",
       "1970 AR                          2                  NaN\n",
       "     AT                         36                  1.0\n",
       "     AU                        115                  NaN\n",
       "     BA                          1                  NaN\n",
       "     BE                         85                  NaN"
      ]
     },
     "execution_count": 91,
     "metadata": {},
     "output_type": "execute_result"
    }
   ],
   "source": [
    "# sum automation flag\n",
    "min_auto = summary_FF_mining.loc[summary_FF_mining['automation_flag'] == 'Y']\n",
    "min_auto = min_auto[['fam_id','origin','year']]\n",
    "min_auto = min_auto.drop_duplicates()\n",
    "min_auto = min_auto.fillna(0)\n",
    "min_auto = min_auto.groupby(['year', 'origin'])['fam_id'].count()\n",
    "min_auto = min_auto.to_frame()\n",
    "min_auto = min_auto.rename(columns={\"fam_id\": \"automation families\"})\n",
    "min_total = pd.merge(min_total,min_auto, how='left', left_index=True, right_index=True)\n",
    "min_total.head()"
   ]
  },
  {
   "cell_type": "code",
   "execution_count": null,
   "metadata": {
    "collapsed": true
   },
   "outputs": [],
   "source": [
    "# sum categories\n",
    "# create category dictionary\n",
    "mining_dict = [[1,'blasting families'],\n",
    "               [2,'environmental families'],\n",
    "               [3,'processing families'],\n",
    "               [5,'transport families'],\n",
    "               [6,'exploration families'],\n",
    "               [11,'refining families'],\n",
    "               [12,'metallurgy families'],\n",
    "               [4,'mining 4'],\n",
    "               [9,'mining 9']]\n",
    "\n",
    "summary_FF_mining = summary_FF_mining.fillna(0)\n",
    "\n",
    "# sum categories\n",
    "for i,k in mining_dict:\n",
    "    min_cat = summary_FF_mining.loc[summary_FF_mining['min_mining_lvl_id'] == i]\n",
    "    min_cat = min_cat[['fam_id','origin','year']]\n",
    "    min_cat = min_cat.drop_duplicates()\n",
    "    min_cat = min_cat.groupby(['year', 'origin'])['fam_id'].count()\n",
    "    min_cat = min_cat.to_frame()\n",
    "    min_cat = min_cat.rename(columns={\"fam_id\": k})\n",
    "    min_total = pd.merge(min_total,min_cat, how='left', left_index=True, right_index=True)\n",
    "    \n",
    "min_total = min_total.fillna(0)\n",
    "min_total['mining operations families'] = min_total['mining 4'] + min_total['mining 9']\n",
    "min_total = min_total.drop('mining 4', axis=1)\n",
    "min_total = min_total.drop('mining 9', axis=1)\n",
    "min_total.to_csv(\"agg_data/RSI_mining_ff.csv\",header=True,index=True)"
   ]
  },
  {
   "cell_type": "code",
   "execution_count": 98,
   "metadata": {},
   "outputs": [
    {
     "data": {
      "text/html": [
       "<div>\n",
       "<style>\n",
       "    .dataframe thead tr:only-child th {\n",
       "        text-align: right;\n",
       "    }\n",
       "\n",
       "    .dataframe thead th {\n",
       "        text-align: left;\n",
       "    }\n",
       "\n",
       "    .dataframe tbody tr th {\n",
       "        vertical-align: top;\n",
       "    }\n",
       "</style>\n",
       "<table border=\"1\" class=\"dataframe\">\n",
       "  <thead>\n",
       "    <tr style=\"text-align: right;\">\n",
       "      <th></th>\n",
       "      <th></th>\n",
       "      <th>total_mining_families</th>\n",
       "      <th>automation families</th>\n",
       "      <th>blasting families</th>\n",
       "      <th>environmental families</th>\n",
       "      <th>processing families</th>\n",
       "      <th>transport families</th>\n",
       "      <th>exploration families</th>\n",
       "      <th>refining families</th>\n",
       "      <th>metallurgy families</th>\n",
       "      <th>mining operations families</th>\n",
       "    </tr>\n",
       "    <tr>\n",
       "      <th>year</th>\n",
       "      <th>origin</th>\n",
       "      <th></th>\n",
       "      <th></th>\n",
       "      <th></th>\n",
       "      <th></th>\n",
       "      <th></th>\n",
       "      <th></th>\n",
       "      <th></th>\n",
       "      <th></th>\n",
       "      <th></th>\n",
       "      <th></th>\n",
       "    </tr>\n",
       "  </thead>\n",
       "  <tbody>\n",
       "    <tr>\n",
       "      <th rowspan=\"5\" valign=\"top\">1970</th>\n",
       "      <th>AR</th>\n",
       "      <td>2</td>\n",
       "      <td>0.0</td>\n",
       "      <td>0.0</td>\n",
       "      <td>0.0</td>\n",
       "      <td>0.0</td>\n",
       "      <td>0.0</td>\n",
       "      <td>1.0</td>\n",
       "      <td>0.0</td>\n",
       "      <td>0.0</td>\n",
       "      <td>1.0</td>\n",
       "    </tr>\n",
       "    <tr>\n",
       "      <th>AT</th>\n",
       "      <td>36</td>\n",
       "      <td>1.0</td>\n",
       "      <td>0.0</td>\n",
       "      <td>3.0</td>\n",
       "      <td>1.0</td>\n",
       "      <td>1.0</td>\n",
       "      <td>4.0</td>\n",
       "      <td>13.0</td>\n",
       "      <td>7.0</td>\n",
       "      <td>7.0</td>\n",
       "    </tr>\n",
       "    <tr>\n",
       "      <th>AU</th>\n",
       "      <td>115</td>\n",
       "      <td>0.0</td>\n",
       "      <td>2.0</td>\n",
       "      <td>8.0</td>\n",
       "      <td>4.0</td>\n",
       "      <td>4.0</td>\n",
       "      <td>32.0</td>\n",
       "      <td>37.0</td>\n",
       "      <td>3.0</td>\n",
       "      <td>22.0</td>\n",
       "    </tr>\n",
       "    <tr>\n",
       "      <th>BA</th>\n",
       "      <td>1</td>\n",
       "      <td>0.0</td>\n",
       "      <td>0.0</td>\n",
       "      <td>0.0</td>\n",
       "      <td>0.0</td>\n",
       "      <td>0.0</td>\n",
       "      <td>0.0</td>\n",
       "      <td>0.0</td>\n",
       "      <td>0.0</td>\n",
       "      <td>1.0</td>\n",
       "    </tr>\n",
       "    <tr>\n",
       "      <th>BE</th>\n",
       "      <td>85</td>\n",
       "      <td>0.0</td>\n",
       "      <td>0.0</td>\n",
       "      <td>3.0</td>\n",
       "      <td>2.0</td>\n",
       "      <td>2.0</td>\n",
       "      <td>5.0</td>\n",
       "      <td>54.0</td>\n",
       "      <td>6.0</td>\n",
       "      <td>7.0</td>\n",
       "    </tr>\n",
       "  </tbody>\n",
       "</table>\n",
       "</div>"
      ],
      "text/plain": [
       "             total_mining_families  automation families  blasting families  \\\n",
       "year origin                                                                  \n",
       "1970 AR                          2                  0.0                0.0   \n",
       "     AT                         36                  1.0                0.0   \n",
       "     AU                        115                  0.0                2.0   \n",
       "     BA                          1                  0.0                0.0   \n",
       "     BE                         85                  0.0                0.0   \n",
       "\n",
       "             environmental families  processing families  transport families  \\\n",
       "year origin                                                                    \n",
       "1970 AR                         0.0                  0.0                 0.0   \n",
       "     AT                         3.0                  1.0                 1.0   \n",
       "     AU                         8.0                  4.0                 4.0   \n",
       "     BA                         0.0                  0.0                 0.0   \n",
       "     BE                         3.0                  2.0                 2.0   \n",
       "\n",
       "             exploration families  refining families  metallurgy families  \\\n",
       "year origin                                                                 \n",
       "1970 AR                       1.0                0.0                  0.0   \n",
       "     AT                       4.0               13.0                  7.0   \n",
       "     AU                      32.0               37.0                  3.0   \n",
       "     BA                       0.0                0.0                  0.0   \n",
       "     BE                       5.0               54.0                  6.0   \n",
       "\n",
       "             mining operations families  \n",
       "year origin                              \n",
       "1970 AR                             1.0  \n",
       "     AT                             7.0  \n",
       "     AU                            22.0  \n",
       "     BA                             1.0  \n",
       "     BE                             7.0  "
      ]
     },
     "execution_count": 98,
     "metadata": {},
     "output_type": "execute_result"
    }
   ],
   "source": [
    "min_total.head()"
   ]
  },
  {
   "cell_type": "markdown",
   "metadata": {},
   "source": [
    "#### calculate RSI\n",
    "`log10[[ni/ntotal)/(Ni/Ntotal)]]`\n",
    "* ni = num tech patents in country i\n",
    "* ntotal  = num tech patents in total\n",
    "* Ni = num patents in country i\n",
    "* Ntotal = num patents in total\n",
    "\n",
    "want to aggregate by years... this I can't figure out."
   ]
  },
  {
   "cell_type": "code",
   "execution_count": 13,
   "metadata": {
    "collapsed": true
   },
   "outputs": [],
   "source": [
    "# ntotal (mining)\n",
    "\n",
    "years1 = np.arange(1990,2005)\n",
    "years2 = np.arange(2005,2016)\n",
    "\n",
    "\n",
    "min_total_90_04 = min_total\n",
    "\n",
    "min_total_90_04 = min_total_90_04.reset_index()\n",
    "min_total_90_04 = min_total_90_04[min_total_90_04['year'].isin(years1)]\n",
    "\n",
    "ni_90_04 =  min_total_90_04['origin']+min_total_90_04['total_mining_families']\n",
    "\n",
    "ni_90_04.head()\n"
   ]
  },
  {
   "cell_type": "markdown",
   "metadata": {},
   "source": [
    "### Global data for comparison\n",
    "\n",
    "* data for analysis/first_fam_counts (aggregated by year and country)\n"
   ]
  },
  {
   "cell_type": "code",
   "execution_count": 14,
   "metadata": {
    "collapsed": true
   },
   "outputs": [],
   "source": [
    "# all technologies for RSI calcs\n",
    "#SQL = \"\"\"SELECT COUNT(DISTINCT fs.fam_id), origin, year\n",
    "#        FROM gstat_miscellaneous.family_summary fs \n",
    "#        GROUP BY fs.origin, fs.year\"\"\"\n",
    "#all_tech_df = get_data(SQL)\n",
    "#all_tech_df.to_csv(\"agg_data/first_fam_counts.csv\",header=True,index=False)"
   ]
  },
  {
   "cell_type": "code",
   "execution_count": null,
   "metadata": {
    "collapsed": true
   },
   "outputs": [],
   "source": [
    "# upload family data from csv if already downloaded from server\n",
    "all_tech_df = pd.read_csv('agg_data/first_fam_counts.csv')"
   ]
  },
  {
   "cell_type": "code",
   "execution_count": null,
   "metadata": {
    "collapsed": true
   },
   "outputs": [],
   "source": [
    "all_tech_df.head()"
   ]
  },
  {
   "cell_type": "markdown",
   "metadata": {},
   "source": [
    "## Graphs and Data featured in the [Working paper](https://www.wipo.int/publications/en/details.jsp?id=4420&plang=EN)"
   ]
  },
  {
   "cell_type": "code",
   "execution_count": 19,
   "metadata": {},
   "outputs": [
    {
     "data": {
      "text/plain": [
       "array([1990, 1991, 1992, 1993, 1994, 1995, 1996, 1997, 1998, 1999, 2000,\n",
       "       2001, 2002, 2003, 2004, 2005, 2006, 2007, 2008, 2009, 2010, 2011,\n",
       "       2012, 2013, 2014, 2015])"
      ]
     },
     "execution_count": 19,
     "metadata": {},
     "output_type": "execute_result"
    }
   ],
   "source": [
    "years = np.arange(1990,2016)\n",
    "years"
   ]
  },
  {
   "cell_type": "markdown",
   "metadata": {},
   "source": [
    "#### Number of families between 1990 and 2015\n",
    "<img src=\"figures/fig5.jpg\" align=\"left\" width=\"200\">\n"
   ]
  },
  {
   "cell_type": "code",
   "execution_count": null,
   "metadata": {
    "collapsed": true
   },
   "outputs": [],
   "source": [
    "ff_year = summary_FF_mining[summary_FF_mining.year.isin(years)]\n",
    "ff_year = ff_year[['fam_id','year']]\n",
    "ff_year = ff_year.drop_duplicates()\n",
    "ff_year = ff_year.fillna(0)\n",
    "ff_year = ff_year.groupby(['year'])['fam_id'].count()\n",
    "ff_year = ff_year.to_frame()\n",
    "ff_year = ff_year.rename(columns={\"fam_id\": \"total_mining_families\"})\n",
    "ff_year.sum()"
   ]
  },
  {
   "cell_type": "markdown",
   "metadata": {},
   "source": [
    "#### Fig 7. Families by priority year\n",
    "<img src=\"figures/fig7.jpg\" align=\"left\" width=\"500\">"
   ]
  },
  {
   "cell_type": "code",
   "execution_count": null,
   "metadata": {
    "collapsed": true
   },
   "outputs": [],
   "source": [
    "ff_year.head()"
   ]
  },
  {
   "cell_type": "markdown",
   "metadata": {},
   "source": [
    "#### Fig 8. Share of families by priority year\n",
    "<img src=\"figures/fig8.jpg\" align=\"left\" width=\"500\">"
   ]
  },
  {
   "cell_type": "code",
   "execution_count": null,
   "metadata": {
    "collapsed": true
   },
   "outputs": [],
   "source": [
    "all_ff = all_tech_df[all_tech_df.year.isin(years)]\n",
    "all_ff = all_ff[['total_WIPO_families','year']]\n",
    "all_ff = all_ff.drop_duplicates()\n",
    "all_ff = all_ff.fillna(0)\n",
    "all_ff = all_ff.groupby(['year'])['total_WIPO_families'].sum()\n",
    "all_ff = all_ff.to_frame()\n",
    "all_ff = pd.merge(all_ff,ff_year, how='left', left_index=True, right_index=True)\n",
    "all_ff['share'] = 100 * all_ff['total_mining_families']/all_ff['total_WIPO_families']\n",
    "all_ff.head()"
   ]
  },
  {
   "cell_type": "markdown",
   "metadata": {},
   "source": [
    "#### Fig 9. Families by patent type, by year\n",
    "<img src=\"figures/fig9.jpg\" align=\"left\" width=\"500\">"
   ]
  },
  {
   "cell_type": "code",
   "execution_count": null,
   "metadata": {
    "collapsed": true
   },
   "outputs": [],
   "source": []
  },
  {
   "cell_type": "markdown",
   "metadata": {},
   "source": [
    "#### Table 3. Families by sector between 1990 and 2015 (table)\n",
    "<img src=\"figures/tab3.jpg\" align=\"left\" width=\"500\">"
   ]
  },
  {
   "cell_type": "code",
   "execution_count": null,
   "metadata": {
    "collapsed": true
   },
   "outputs": [],
   "source": []
  },
  {
   "cell_type": "markdown",
   "metadata": {},
   "source": [
    "#### Fig 10. Families by sector between 1990 and 2015, as a share of the whole dataset\n",
    "<img src=\"figures/fig10.jpg\" align=\"left\" width=\"500\">"
   ]
  },
  {
   "cell_type": "code",
   "execution_count": null,
   "metadata": {
    "collapsed": true
   },
   "outputs": [],
   "source": []
  },
  {
   "cell_type": "markdown",
   "metadata": {},
   "source": [
    "#### Fig 11. Families by sector between 1990 and 2015, as a share of the whole dataset, over time\n",
    "(we did in 5 year increments)\n",
    "\n",
    "<img src=\"figures/fig11.jpg\" align=\"left\" width=\"500\">"
   ]
  },
  {
   "cell_type": "code",
   "execution_count": null,
   "metadata": {
    "collapsed": true
   },
   "outputs": [],
   "source": []
  },
  {
   "cell_type": "markdown",
   "metadata": {},
   "source": [
    "#### Fig 12. Families in mining automation (according to flag), by year and as a share of dataset\n",
    "<img src=\"figures/fig12.jpg\" align=\"left\" width=\"500\">"
   ]
  },
  {
   "cell_type": "code",
   "execution_count": null,
   "metadata": {
    "collapsed": true
   },
   "outputs": [],
   "source": []
  },
  {
   "cell_type": "markdown",
   "metadata": {},
   "source": [
    "#### Fig 13. Families by country\n",
    "<img src=\"figures/fig13.jpg\" align=\"left\" width=\"300\">"
   ]
  },
  {
   "cell_type": "code",
   "execution_count": null,
   "metadata": {
    "collapsed": true
   },
   "outputs": [],
   "source": []
  },
  {
   "cell_type": "markdown",
   "metadata": {},
   "source": [
    "#### Fig 14. Families by top countries of origin, by year\n",
    "<img src=\"figures/fig14.jpg\" align=\"left\" width=\"500\">"
   ]
  },
  {
   "cell_type": "code",
   "execution_count": null,
   "metadata": {
    "collapsed": true
   },
   "outputs": [],
   "source": []
  },
  {
   "cell_type": "markdown",
   "metadata": {},
   "source": [
    "#### Fig 15. Families by country by year\n",
    "(we did in 5 year increments)\n",
    "\n",
    "<img src=\"figures/fig15.jpg\" align=\"left\" width=\"400\">"
   ]
  },
  {
   "cell_type": "code",
   "execution_count": null,
   "metadata": {
    "collapsed": true
   },
   "outputs": [],
   "source": []
  },
  {
   "cell_type": "markdown",
   "metadata": {},
   "source": [
    "#### Fig 16. RSI by country\n",
    "(1900-2004 vs 2005-2015)\n",
    "\n",
    "<img src=\"figures/fig16.jpg\" align=\"left\" width=\"400\">"
   ]
  },
  {
   "cell_type": "code",
   "execution_count": null,
   "metadata": {
    "collapsed": true
   },
   "outputs": [],
   "source": []
  },
  {
   "cell_type": "markdown",
   "metadata": {},
   "source": [
    "#### Fig 17. RSI by sector for select countries\n",
    "(1900-2004 vs 2005-2015)\n",
    "\n",
    "<img src=\"figures/fig17.jpg\" align=\"left\" width=\"400\">"
   ]
  },
  {
   "cell_type": "code",
   "execution_count": null,
   "metadata": {
    "collapsed": true
   },
   "outputs": [],
   "source": []
  },
  {
   "cell_type": "markdown",
   "metadata": {},
   "source": [
    "#### Fig 18. Number of mining patents over the years by type of stakeholder\n",
    "<img src=\"figures/fig18.jpg\" align=\"left\" width=\"500\">"
   ]
  },
  {
   "cell_type": "code",
   "execution_count": null,
   "metadata": {
    "collapsed": true
   },
   "outputs": [],
   "source": []
  },
  {
   "cell_type": "markdown",
   "metadata": {},
   "source": [
    "#### Fig 22. Top 10 filing jurisdictions for mining patents by earliest priority year\n",
    "<img src=\"figures/fig22.jpg\" align=\"left\" width=\"500\">"
   ]
  },
  {
   "cell_type": "code",
   "execution_count": null,
   "metadata": {
    "collapsed": true
   },
   "outputs": [],
   "source": []
  },
  {
   "cell_type": "markdown",
   "metadata": {},
   "source": [
    "#### Fig 23: Origin of application for technology subset: Resident versus non-resident patent filings\n",
    "<img src=\"figures/fig23.jpg\" align=\"left\" width=\"500\">"
   ]
  },
  {
   "cell_type": "code",
   "execution_count": null,
   "metadata": {
    "collapsed": true
   },
   "outputs": [],
   "source": []
  },
  {
   "cell_type": "markdown",
   "metadata": {},
   "source": [
    "##### Close connection to server"
   ]
  },
  {
   "cell_type": "code",
   "execution_count": null,
   "metadata": {
    "collapsed": true
   },
   "outputs": [],
   "source": [
    "con.close()"
   ]
  }
 ],
 "metadata": {
  "kernelspec": {
   "display_name": "Python 3",
   "language": "python",
   "name": "python3"
  },
  "language_info": {
   "codemirror_mode": {
    "name": "ipython",
    "version": 3
   },
   "file_extension": ".py",
   "mimetype": "text/x-python",
   "name": "python",
   "nbconvert_exporter": "python",
   "pygments_lexer": "ipython3",
   "version": "3.6.1"
  }
 },
 "nbformat": 4,
 "nbformat_minor": 2
}
